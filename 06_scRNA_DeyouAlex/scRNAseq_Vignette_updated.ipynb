{
 "cells": [
  {
   "cell_type": "markdown",
   "id": "6d09a06c",
   "metadata": {},
   "source": [
    "# Clustering and Cell Annotation from scRNA-seq data\n",
    "### Alexander Ferrena and Deyou Zheng, PhD\n"
   ]
  },
  {
   "cell_type": "markdown",
   "id": "e9859a61",
   "metadata": {},
   "source": [
    "***\n",
    "<div class=\"alert alert-block alert-warning\">\n",
    "<b>README:</b> \n",
    "If running on HPC, make sure to select Kernel: \"R conda env:omics-workshop-R\"."
   ]
  },
  {
   "cell_type": "markdown",
   "id": "aa8d56ef",
   "metadata": {},
   "source": [
    "\n",
    "## Single-cell RNA sequencing\n",
    "\n",
    "This vignette will serve as a tutorial for exploratory analysis of scRNA-seq data, including cell clustering and cell-type annotation."
   ]
  },
  {
   "cell_type": "markdown",
   "id": "5a917aa1",
   "metadata": {},
   "source": [
    "## Overview of this tutorial\n",
    "\n",
    "In this vignette, we will read in some 10X single-cell RNA-seq data which has been pre-processed with Cellranger, perform cell clustering with Seurat, and try to annotate cell types.\n",
    "\n",
    "\n",
    "### General steps:\n",
    "\n",
    "0. An overview of pre-processing, including sequencing, read alignment, and cell calling\n",
    "1. Reading in aligned data (count matrices)\n",
    "2. Cell filtering\n",
    "3. Normalization\n",
    "4. Highly variable gene selection\n",
    "5. Principal Component Analysis (PCA)\n",
    "6. Graph representation, non-linear dimension reduction, Louvain Clustering\n",
    "7. Cluster marker calling and visualization\n",
    "8. Cluster cell-type annotation\n",
    "\n",
    "\n",
    "\n",
    "## For more resources:\n",
    "\n",
    "Please check out: \n",
    "\n",
    "Current best practices in single-cell RNA-seq analysis: a tutorial (Luecken & Theis Mol Syst Biol 2019) - https://pubmed.ncbi.nlm.nih.gov/31217225/\n",
    "\n",
    "Seurat tutorial - https://satijalab.org/seurat/articles/pbmc3k_tutorial\n"
   ]
  },
  {
   "cell_type": "markdown",
   "id": "b76872bc",
   "metadata": {},
   "source": [
    "# Set a Seed\n",
    "\n",
    "This file is a Jupyter Notebook. Below is a code block which can be run by pressing the green arrow.\n",
    "\n",
    "The code will set a random seed. Many statistical methods have some randomness to them, but setting a seed helps make sure results are reproducible. This should be done for every analysis!\n"
   ]
  },
  {
   "cell_type": "code",
   "execution_count": null,
   "id": "d33869cc",
   "metadata": {
    "lines_to_next_cell": 0,
    "name": "setseed"
   },
   "outputs": [],
   "source": [
    "\n",
    "set.seed(2024)\n"
   ]
  },
  {
   "cell_type": "code",
   "execution_count": null,
   "id": "d73f27c6",
   "metadata": {},
   "outputs": [],
   "source": [
    "#here we also set the data path to be used to read in data later for this tutorial\n",
    "\n",
    "datapath = 'data/500_PBMC_3p_LT_Chromium_X_filtered_feature_bc_matrix.h5'\n",
    "# datapath = '/public/codelab/omics-workshop/OmicsWorkshopVignettes/06_scRNA_DeyouAlex/data/500_PBMC_3p_LT_Chromium_X_filtered_feature_bc_matrix.h5'\n",
    "\n"
   ]
  },
  {
   "cell_type": "markdown",
   "id": "a0de1821",
   "metadata": {},
   "source": [
    "# Load important libraries\n",
    "\n",
    "Below we will load import libraries for this analysis. These are software packages that are developed by the R user community (such as various labs) which greatly facilitate analysis.\n",
    "\n",
    "It may print some messages or information about the software versions."
   ]
  },
  {
   "cell_type": "code",
   "execution_count": null,
   "id": "3c77151b",
   "metadata": {
    "lines_to_next_cell": 0,
    "name": "loadlibs"
   },
   "outputs": [],
   "source": [
    "\n",
    "library(Seurat)\n",
    "library(Matrix)\n",
    "library(ggplot2)\n",
    "library(patchwork)\n",
    "library(magrittr)\n",
    "library(dplyr)\n",
    "library(clusterProfiler)\n",
    "\n"
   ]
  },
  {
   "cell_type": "markdown",
   "id": "3978cdcb",
   "metadata": {},
   "source": [
    "# Upstream processing of sequencing data\n",
    "\n",
    "\n",
    "\n",
    "![](images/Microfluidics_2_GIF_2.gif)\n",
    "An image of single cell microfluidics. You can also imagine the label \"Nuclei\" can also be replaced with \"Cells\".\n",
    "\n",
    "After droplet loading, cell (or nuclei), and the cells are joined with the \"reagents\", cell lysis occurs, followed by reverse transcription, barcoding, \"library\" pooling, and then sequencing.\n",
    "\n",
    "\n",
    "\n",
    "\n",
    "## Sequencing\n",
    "\n",
    "For 10X scRNA-seq, sequencing involves first capturing each cell in droplet with microfluidic technology, then performing cell lysis and reverse transcription from RNA to cDNA. Within each cell droplet, each mRNA molecule is captured via its polyA tail, and is given a barcode called a Unique Molecular Identifier (UMI). (Technically, any RNA with a polyA tail can be captured, including for example long non-coding RNA, in addition to mRNA). Additionally, each cell is also given a barcode. As in other areas os science, single-cell RNA-seq is essentially the art of putting labels on everything we possibly can!\n",
    "\n",
    "Eventually, the cDNA from each cell is pooled. Each cDNA molecule has a cellular barcode to distinguish which cell it came from, and a UMI barcode (signifying the exact mRNA molecule from that cell). The pooled and barcoded cDNA is refered to as a \"library\" and this process as whole is referred to as \"library preparation\". An aliquot of the library is placed on an Illumina sequencer. Usually, each library is sequenced to a read depth of about 300 Millon read-pairs at about 100-150 read length. Paired-end sequencing is used, where each cDNA molecule is sequenced from the front 5' and back 3' ends simultaneously. The front end (known as the first of the pair of the \"R1\" reads) contains information about the barcodes: the cell barcode, and the UMI. The back end (the second of the pair, or the \"R2\" read) contains the actual cDNA sequence derived from the mRNA molecule.\n",
    "\n",
    "Sequencing produces an output which is very often pre-processed to a file containing raw sequence reads (ATGC DNA bases) and sequencing quality information. This file is called a \"FASTQ\" file. There will always be a pair, R1 and R2, for the paired end sequencing as described above.\n",
    "\n",
    "\n",
    "\n",
    "\n",
    "\n",
    "\n",
    "\n",
    "\n",
    "## Computational pre-processing of 10X sequence data\n",
    "\n",
    "Once we have FASTQ files, computational analysis of the data begins. This involves cell demultiplexing and read alignment to a reference genome. This can be done with the 10X software, For more information, see this link:\n",
    "https://www.10xgenomics.com/support/software/cell-ranger/latest/getting-started/cr-what-is-cell-ranger\n",
    "\n",
    "FASTQ files are extremely large files with very dense information. Because of this, Cellranger is a very memory-intensive and time-consuming process. As such, Cellranger itself is beyond the scope of this tutorial and we will work directly with the outputs. However, some example code for running cellranger can be found below:"
   ]
  },
  {
   "cell_type": "markdown",
   "id": "7a526222",
   "metadata": {},
   "source": [
    "#### NON-RUNNABLE BLOCK OF UNIX / BASH CODE FOR RUNNING CELLRANGER ON HPC IS BELOW FOR EXAMPLE PURPOSES ONLY (feel free to copy):"
   ]
  },
  {
   "cell_type": "markdown",
   "id": "545d8e18",
   "metadata": {},
   "source": [
    "```\n",
    "#prep input and output paths\n",
    "#indir: contains the R1 and R2 FASTQ files\n",
    "indir=/gs/gsfs0/users/username/path/to/data\n",
    "\n",
    "#outdir: outputs will be stored here\n",
    "outdir=/gs/gsfs0/users/username/path/to/output\n",
    "\n",
    "#prep path to reference genome\n",
    "# refs for most species can be found here:\n",
    "# https://www.10xgenomics.com/support/software/cell-ranger/downloads#reference-downloads\n",
    "ref=/gs/gsfs0/users/username/path/to/reference/genome\n",
    "\n",
    "\n",
    "\n",
    "#run cellranger count with 10 CPUs and 100GB of memory\n",
    "cellranger count --id=SampleName \\\n",
    "--transcriptome=$ref \\\n",
    "--fastqs=$indir \\\n",
    "--localcores=10 \\\n",
    "--localmem=100\n",
    "```\n",
    "\n",
    "This will produce a folder at the output directory that contains a bunch of results, diagnostics, and logs from Cellranger. The most important files are found on the \"outs\" subfolder.\n",
    "\n",
    "The relevant files to take from Cellranger are called \"filtered_feature_bc_matrix.h5\", or the files in the folder \"filtered_feature_bc_matrix\". These are equivalent."
   ]
  },
  {
   "cell_type": "markdown",
   "id": "36c7c3af",
   "metadata": {},
   "source": [
    "# Inputs: pre-processed data from Cellranger"
   ]
  },
  {
   "cell_type": "markdown",
   "id": "3344f08a",
   "metadata": {},
   "source": [
    "As stated above, the key input is the file \"filtered_feature_bc_matrix.h5\" in the \"outs\" folder from Cellranger.\n",
    "\n",
    "The input is called a \"gene expression matrix\" or a \"count matrix\". The rows are genes, the columns are cells (denoted by their barcodes). The values are the number of UMIs (Unique Molecular Identifies, ie individual transcripts) detected for each gene/cell.\n",
    "\n",
    "The matrix may be quite large: usually around 20,000-30,000 or more rows (genes, lncRNAs, etc), and around 10,000 columns (cells).\n",
    "\n",
    "The data we will work with in this vignette is from peripheral blood mononuclear cells (ie, immune White Blood Cells). More information is available at this link:\n",
    "https://www.10xgenomics.com/datasets/10k-human-pbmcs-3-v3-1-chromium-x-with-intronic-reads-3-1-high\n",
    "\n",
    "This dataset is a small sample dataset of about 500 cells."
   ]
  },
  {
   "cell_type": "markdown",
   "id": "1e1ee35c",
   "metadata": {},
   "source": [
    "We will read the gene expression matrix in from the \"filtered_feature_bc_matrix.h5\" file in below:"
   ]
  },
  {
   "cell_type": "code",
   "execution_count": null,
   "id": "0c88c6f3",
   "metadata": {
    "lines_to_next_cell": 2,
    "name": "readin-data"
   },
   "outputs": [],
   "source": [
    "\n",
    "#data path was set above\n",
    "# datapath = '/public/codelab/omics-workshop/OmicsWorkshopVignettes/06_scRNA_DeyouAlex/data/500_PBMC_3p_LT_Chromium_X_filtered_feature_bc_matrix.h5'\n",
    "\n",
    "\n",
    "mat <- Read10X_h5(datapath)\n"
   ]
  },
  {
   "cell_type": "markdown",
   "id": "51fa0082",
   "metadata": {},
   "source": [
    "We have read in the gene expression matrix as an R object, which we have called \"mat\". Let's check the numbers of rows, columns, and peek at the matrix."
   ]
  },
  {
   "cell_type": "code",
   "execution_count": null,
   "id": "a03c5380",
   "metadata": {},
   "outputs": [],
   "source": [
    "message('Dimensions of matrix (number of rows and columns):')\n",
    "dim(mat)\n",
    "\n",
    "\n",
    "message('\\n\\n\\n\\nFirst few columns and rows of matrix:')\n",
    "mat[1:3,1:3]"
   ]
  },
  {
   "cell_type": "markdown",
   "id": "3d230503",
   "metadata": {},
   "source": [
    "\n",
    "\n",
    "The first two numbers indicate the numbers of rows and columns of the full matrix, respectively.\n",
    "\n",
    "Below that, we printed out the first 3 columns and rows of the matrix. The row names are gene names, while the column names are cell barcodes. The matrix is in a special, memory-compressed format called a \"Sparse Matrix\". In this format, zeros are represented as small dots rather than numbers. This memory compression serves to aid the analysis of huge datasets."
   ]
  },
  {
   "cell_type": "markdown",
   "id": "5825ae77",
   "metadata": {},
   "source": [
    "# Filter lowly expressed genes and empty cells\n",
    "\n",
    "Sometimes, the identified genes can have extremely low expression values or even be fully empty. Keeping such rows in the matrix can reduce memory efficiency and potentially drive inaccurate results. We will filter these out."
   ]
  },
  {
   "cell_type": "markdown",
   "id": "c5963309",
   "metadata": {},
   "source": [
    "First, let's check how many genes are completely empty, with no transcripts detected from any cell:\n"
   ]
  },
  {
   "cell_type": "code",
   "execution_count": null,
   "id": "90f1e741",
   "metadata": {
    "name": "check-all-zeros"
   },
   "outputs": [],
   "source": [
    "\n",
    "message('True = genes with all zeros across all cells')\n",
    "table(rowSums(mat) == 0)\n",
    "\n"
   ]
  },
  {
   "cell_type": "markdown",
   "id": "e795ca88",
   "metadata": {},
   "source": [
    "We can see that many genes are not detected at all in any cell.\n",
    "\n",
    "At a minimum, we can select a threshold of 3 transcripts per gene across cells. Let's check how many genes pass this threshold:"
   ]
  },
  {
   "cell_type": "code",
   "execution_count": null,
   "id": "5662775e",
   "metadata": {
    "name": "check-min-thres"
   },
   "outputs": [],
   "source": [
    "\n",
    "message('True = genes with at least three transcripts detected from any cell(s)')\n",
    "table(rowSums(mat) >= 3)\n",
    "\n"
   ]
  },
  {
   "cell_type": "markdown",
   "id": "da39a6f9",
   "metadata": {},
   "source": [
    "We can see that a fairly large number of genes survive this threshold. The number of genes detected in this manner may vary quite a bit from dataset to dataset and depends on the types and diversity of cell types in the sample."
   ]
  },
  {
   "cell_type": "markdown",
   "id": "6bf05fd4",
   "metadata": {},
   "source": [
    "Below, we select only the matrix rows with greater than or equal to 3 total counts for downstream analysis."
   ]
  },
  {
   "cell_type": "code",
   "execution_count": null,
   "id": "ab2671be",
   "metadata": {
    "lines_to_next_cell": 0,
    "name": "filter-min-thres"
   },
   "outputs": [],
   "source": [
    "\n",
    "mat <- mat[rowSums(mat) >= 3,]\n",
    "\n"
   ]
  },
  {
   "cell_type": "markdown",
   "id": "4326feac",
   "metadata": {},
   "source": [
    "And now we will check how many genes remain after this filtering:"
   ]
  },
  {
   "cell_type": "code",
   "execution_count": null,
   "id": "b6a43673",
   "metadata": {},
   "outputs": [],
   "source": [
    "dim(mat)"
   ]
  },
  {
   "cell_type": "markdown",
   "id": "3a1292b7",
   "metadata": {},
   "source": [
    "The number of genes remaining after such filtering steps will depend on the size and complexity of the dataset. As a small dataset of only blood cells, it is not unexpected that many genes will not be detected to be expressed."
   ]
  },
  {
   "cell_type": "markdown",
   "id": "bf471661",
   "metadata": {},
   "source": [
    "# Input matrix to Seurat object for downstream clustering analysis"
   ]
  },
  {
   "cell_type": "markdown",
   "id": "77826ad6",
   "metadata": {},
   "source": [
    "Now that we have the matrix, we will perform some analysis. In scRNA-seq analysis, we typically begin with trying to classify similar cells together by cell type, such as T cells, B cells, etc. To do this, we first have to cluster the cells together based on shared transcriptomic profiles."
   ]
  },
  {
   "cell_type": "markdown",
   "id": "09e5bb47",
   "metadata": {},
   "source": [
    "For this, we will use the popular software package Seurat:\n",
    "https://satijalab.org/seurat/"
   ]
  },
  {
   "cell_type": "markdown",
   "id": "08a16ec2",
   "metadata": {},
   "source": [
    "First, we will use the gene expression matrix as an input to Seurat. Seurat has its own data format, which includes the gene expression matrix, but also a convenient way to store transformed data and per-cell metadata information. This will be important in a moment, as we will see.\n",
    "\n"
   ]
  },
  {
   "cell_type": "code",
   "execution_count": null,
   "id": "f4ca8a9e",
   "metadata": {
    "lines_to_next_cell": 0,
    "name": "mat-to-seurat"
   },
   "outputs": [],
   "source": [
    "\n",
    "#using mat, create seurat object (\"sobj\")\n",
    "sobj <- CreateSeuratObject(counts = mat)\n",
    "\n",
    "#printing the seurat object shows some basic information:\n",
    "sobj\n"
   ]
  },
  {
   "cell_type": "markdown",
   "id": "6b3b25f4",
   "metadata": {},
   "source": [
    "Terminology time: in machine learning, the term \"features\" is often used. This is equivalent to the term \"variables\", which in our case is the genes. The cells are considered \"samples\". However, the samples should not considered independently-drawn since they all come from the same source sample. That is why increasing numbers of replicates, along with replicate-aware methods such as \"pseudobulk\" analysis have become increasingly popular. Although, that is beyond the scope of an introductory tutorial.\n",
    "\n"
   ]
  },
  {
   "cell_type": "markdown",
   "id": "87dc921d",
   "metadata": {},
   "source": [
    "Let's explore the Seurat object:\n",
    "\n",
    "Seurat stores the same gene expression matrix as a \"layer\" (or \"slot\") of an \"assay\". The terminology here becomes more important when complex data transformations are used. But it is quite easy to access via the `GetAssayData` function. Below is some code to recover the matrix from the Seurat object. We check the dimensions and confirm they are the same as the raw count matrix:\n"
   ]
  },
  {
   "cell_type": "code",
   "execution_count": null,
   "id": "2c651156",
   "metadata": {
    "lines_to_next_cell": 2,
    "name": "check-assay"
   },
   "outputs": [],
   "source": [
    "\n",
    "dim( GetAssayData(sobj, assay = 'RNA', layer = 'counts') )\n"
   ]
  },
  {
   "cell_type": "markdown",
   "id": "e0096624",
   "metadata": {},
   "source": [
    "The other important information Seurat stores is per-cell metadata. These are stored as a data.frame R object. We can check this below:"
   ]
  },
  {
   "cell_type": "code",
   "execution_count": null,
   "id": "ab4d6df0",
   "metadata": {
    "name": "check-metadata"
   },
   "outputs": [],
   "source": [
    "\n",
    "head(sobj@meta.data, n = 3)\n"
   ]
  },
  {
   "cell_type": "markdown",
   "id": "0870e8ea",
   "metadata": {},
   "source": [
    "Seurat automatically calculates some quality control information such as \"nCount_RNA\" (number of UMIs, ie transcripts, per cell); and \"nFeature_RNA\" (number of unique genes detected per cell). More on this below.\n",
    "\n",
    "\n",
    "\n"
   ]
  },
  {
   "cell_type": "code",
   "execution_count": null,
   "id": "9a99278d",
   "metadata": {
    "lines_to_next_cell": 0,
    "name": "check-metadata-dim"
   },
   "outputs": [],
   "source": [
    "\n",
    "dim(sobj@meta.data)\n",
    "dim(mat)\n"
   ]
  },
  {
   "cell_type": "markdown",
   "id": "5b1ebf99",
   "metadata": {},
   "source": [
    "Here, we also check the dimensions of the metadata. We can see the number of rows is equal to the number of columns in the matrix. This is how the per-cell meta-data information is stored.\n",
    "\n",
    "\n"
   ]
  },
  {
   "cell_type": "markdown",
   "id": "59b067ab",
   "metadata": {},
   "source": [
    "# Quality control and filtering"
   ]
  },
  {
   "cell_type": "markdown",
   "id": "02b0519e",
   "metadata": {},
   "source": [
    "Now that we are a bit more familiar with Seurat objects, we can use the functions in the Seurat package to proceed with the analysis."
   ]
  },
  {
   "cell_type": "markdown",
   "id": "78b6db10",
   "metadata": {},
   "source": [
    "A common step in scRNA-seq data analysis is to filter poor quality or damaged cells out."
   ]
  },
  {
   "cell_type": "markdown",
   "id": "367f2516",
   "metadata": {},
   "source": [
    "## Mitochondrial filtering\n",
    "\n",
    "One metric often used to filter such cells is the percent of mitochondrial gene expression. The reasoning is that damaged cells leak out their cytoplasmic mRNA, but may retain larger structures like mitochondria, which keep the mt-RNAs inside the droplet. However, these cells can have an extreme and biased distribution, so they are typically removed.\n"
   ]
  },
  {
   "cell_type": "code",
   "execution_count": null,
   "id": "e3ad7886",
   "metadata": {
    "name": "pctmito-calc"
   },
   "outputs": [],
   "source": [
    "\n",
    "#get genes with names starting with \"MT\", case insensitive\n",
    "mito.features <- grep(pattern = \"^mt-\", x = rownames(x = sobj), value = TRUE, ignore.case = T)\n",
    "\n",
    "#calculate percent mito and add to seurat metadata\n",
    "sobj[[\"percent.mito\"]] <- Seurat::PercentageFeatureSet(sobj, features = mito.features)\n",
    "\n",
    "\n",
    "#plot\n",
    "VlnPlot(sobj, features = 'percent.mito')\n",
    "\n"
   ]
  },
  {
   "cell_type": "markdown",
   "id": "30cccfdd",
   "metadata": {},
   "source": [
    "This is a violin plot, commonly used in scRNAseq analysis. It is similar to a boxplot. The points are cells, the y-axis is the variable being examined (here, the percent of all gene expression coming from mitochondrial genes per cell), and the \"violin\" is a density distribution for the variable. (The X axis is not meaningful here and is only used to help visualize the distribution). "
   ]
  },
  {
   "cell_type": "markdown",
   "id": "73633a3f",
   "metadata": {},
   "source": [
    "Let's select a reasonable threshold based on the distribution:"
   ]
  },
  {
   "cell_type": "code",
   "execution_count": null,
   "id": "639cd6ea",
   "metadata": {
    "lines_to_next_cell": 0,
    "name": "mito-cutoff-select-thres"
   },
   "outputs": [],
   "source": [
    "\n",
    "thres <- 15\n",
    "\n",
    "\n",
    "#plot\n",
    "VlnPlot(sobj, features = 'percent.mito') +\n",
    "  geom_hline(yintercept = thres, linetype = 'dotted')\n",
    "\n"
   ]
  },
  {
   "cell_type": "markdown",
   "id": "959edbba",
   "metadata": {},
   "source": [
    "Based on the threshold, we can now remove cells with mito content above the limit.\n"
   ]
  },
  {
   "cell_type": "code",
   "execution_count": null,
   "id": "753f151d",
   "metadata": {
    "lines_to_next_cell": 2,
    "name": "filter-mito-subset"
   },
   "outputs": [],
   "source": [
    "\n",
    "#get metadata\n",
    "md <- sobj@meta.data\n",
    "\n",
    "#select metadata rows (cells) with percent mito below threshold defined above\n",
    "md <- md[md$percent.mito < thres,]\n",
    "\n",
    "#subset based on cell names, ie metadata row names\n",
    "sobj <- sobj[,rownames(md)]\n",
    "\n",
    "\n",
    "#check dimensions of object\n",
    "sobj\n",
    "\n"
   ]
  },
  {
   "cell_type": "markdown",
   "id": "42c178ea",
   "metadata": {},
   "source": [
    "Thus, we have removed some poor-quality cells. This is a widely used quality control approach."
   ]
  },
  {
   "cell_type": "markdown",
   "id": "5016c503",
   "metadata": {},
   "source": [
    "Note that such filters are data distribution driven, and may vary widely from dataset to dataset, based on celltypes, protocol execution, etc. It is not uncommon in a full dataset (10K cells) for hundreds or thousands of cells to be removed on such quality control basis.\n",
    "\n"
   ]
  },
  {
   "cell_type": "markdown",
   "id": "f4157ae4",
   "metadata": {},
   "source": [
    "## Number of transcripts and number of unique genes filtering"
   ]
  },
  {
   "cell_type": "markdown",
   "id": "68a4542d",
   "metadata": {},
   "source": [
    "Other widely used approached filter cells based on minimum number of UMIs and minimum number of unique genes. The method is very similar, except we usually just remove cells with abnormally low number of UMIs and unique genes."
   ]
  },
  {
   "cell_type": "markdown",
   "id": "be587aaf",
   "metadata": {},
   "source": [
    "Below, the variable \"nCount_RNA\" refers to number of UMIs per cell (ie, the total number of transcripts captured), while the variable \"nFeature_RNA\" refers to number of unique genes detected per cell.\n",
    "\n"
   ]
  },
  {
   "cell_type": "code",
   "execution_count": null,
   "id": "a93454f0",
   "metadata": {
    "lines_to_next_cell": 0,
    "name": "vln-nGENE"
   },
   "outputs": [],
   "source": [
    "\n",
    "VlnPlot(sobj, c('nCount_RNA','nFeature_RNA'))\n",
    "\n"
   ]
  },
  {
   "cell_type": "markdown",
   "id": "c3a234a5",
   "metadata": {},
   "source": [
    "As in the mitochondrial distribution, these numbers can vary quite a lot from dataset to dataset.\n",
    "\n",
    "In contrast to the mitochondrial filtering, here we typically care most about removing the cells that are \"below\" the normal distribution (ie, those with abnormally low transcripts / genes).\n",
    "\n",
    "Visualization of such quality control metrics is a must for this type of analysis."
   ]
  },
  {
   "cell_type": "markdown",
   "id": "974ca4f9",
   "metadata": {},
   "source": [
    "We will apply some thresholds and filter below:\n"
   ]
  },
  {
   "cell_type": "code",
   "execution_count": null,
   "id": "feeca264",
   "metadata": {
    "lines_to_next_cell": 0,
    "name": "filter-umi-gene-subset"
   },
   "outputs": [],
   "source": [
    "\n",
    "#define thresholds\n",
    "nCount_RNA_threshold <- 5000\n",
    "nFeature_RNA_threshold <- 1500\n",
    "\n",
    "#get metadata\n",
    "md <- sobj@meta.data\n",
    "\n",
    "\n",
    "#select metadata rows (cells) based on minimum thresholds\n",
    "md <- md[md$nCount_RNA > nCount_RNA_threshold,]\n",
    "md <- md[md$nCount_RNA > nFeature_RNA_threshold,]\n",
    "\n",
    "#subset based on cell names, ie metadata row names\n",
    "sobj <- sobj[,rownames(md)]\n",
    "\n",
    "\n",
    "#check dimensions of object\n",
    "sobj\n",
    "\n"
   ]
  },
  {
   "cell_type": "markdown",
   "id": "30aa01cf",
   "metadata": {},
   "source": [
    "**We have now visualized some important quality control metrics, and filtered out poor quality cells. To summarize, cells with high mitochondrial content, or low UMIs / unique genes, can lead to biased or confusing downstream results, and usually reflect cells which were damaged during processing and no longer contain much or any useful biological signal, so we remove these from the dataset.**"
   ]
  },
  {
   "cell_type": "markdown",
   "id": "043f6fc5",
   "metadata": {},
   "source": [
    "Note that such filters are data distribution driven, and may vary widely from dataset to dataset, based on celltypes, protocol execution, etc. It is not uncommon in a full dataset (~10K cells) for hundreds or thousands of cells to be removed on such quality control basis.\n",
    "\n",
    "\n",
    "\n",
    "\n"
   ]
  },
  {
   "cell_type": "markdown",
   "id": "3fa8fd3b",
   "metadata": {},
   "source": [
    "# Normalization and gene prioritization for clustering analysis\n"
   ]
  },
  {
   "cell_type": "markdown",
   "id": "d8783916",
   "metadata": {},
   "source": [
    "Now that we are a bit more familiar with Seurat objects, we can use the functions in the Seurat package to proceed with the analysis."
   ]
  },
  {
   "cell_type": "markdown",
   "id": "90759ab0",
   "metadata": {},
   "source": [
    "First, we perform a normalization procedure. \n",
    "\n",
    "To understand why we do this, let's check the distribution of our genes:\n"
   ]
  },
  {
   "cell_type": "code",
   "execution_count": null,
   "id": "26c08b2c",
   "metadata": {
    "lines_to_next_cell": 0,
    "name": "check-dist"
   },
   "outputs": [],
   "source": [
    "\n",
    "\n",
    "hist(rowMeans(mat))\n",
    "\n"
   ]
  },
  {
   "cell_type": "markdown",
   "id": "2b6bdbd7",
   "metadata": {},
   "source": [
    "As we can see, many genes are expressed at very low levels, while some genes are expressed at very high levels."
   ]
  },
  {
   "cell_type": "markdown",
   "id": "7ded1b3f",
   "metadata": {},
   "source": [
    "Below, we apply a log transformation via the `log1p` function. This function adds 1 to each value (a \"pseudocount\", since we cannot take the log of zero). Then it takes the natural log. Let's visualize below:\n",
    "\n",
    "\n"
   ]
  },
  {
   "cell_type": "code",
   "execution_count": null,
   "id": "ad7bae3d",
   "metadata": {
    "lines_to_next_cell": 0,
    "name": "check-dist-log1p"
   },
   "outputs": [],
   "source": [
    "\n",
    "\n",
    "hist(log1p(rowMeans(mat)))\n",
    "\n"
   ]
  },
  {
   "cell_type": "markdown",
   "id": "4e567d93",
   "metadata": {},
   "source": [
    "\n"
   ]
  },
  {
   "cell_type": "markdown",
   "id": "dbbef103",
   "metadata": {},
   "source": [
    "**Compare the X axis of the previous histogram with this one. We can see the range is much smaller. In effect, this reduces the variance of the whole dataset, and brings all genes to a similar scale.**"
   ]
  },
  {
   "cell_type": "markdown",
   "id": "a4c7e28a",
   "metadata": {},
   "source": [
    "Seurat uses something similar to the log1p function, but with a bit of extra steps under the hood, that many people use in scRNAseq. Let's apply the default Seurat normalization and check the distribution:\n"
   ]
  },
  {
   "cell_type": "code",
   "execution_count": null,
   "id": "ec087c18",
   "metadata": {
    "name": "seurat-normalize"
   },
   "outputs": [],
   "source": [
    "\n",
    "sobj <- NormalizeData(sobj)\n"
   ]
  },
  {
   "cell_type": "markdown",
   "id": "94ed895f",
   "metadata": {},
   "source": [
    "We normalized the data, and below we will check the distribution:"
   ]
  },
  {
   "cell_type": "code",
   "execution_count": null,
   "id": "10627b3f",
   "metadata": {
    "lines_to_next_cell": 0,
    "name": "check-dist-seuratnorm"
   },
   "outputs": [],
   "source": [
    "\n",
    "#access the transformed data in RNA assay, data layer.\n",
    "# the raw data is in layer = 'counts'; normalize data is in layer = 'data'.\n",
    "# assay = 'RNA' is typically used for everything.\n",
    "# multiple assays can be set for multi-omic experiments, or for combining alternatively transformed matrices into one seurat object.\n",
    "mat <- GetAssayData(sobj, assay = 'RNA', layer = 'data')\n",
    "\n",
    "\n",
    "hist(rowMeans(mat))\n",
    "\n"
   ]
  },
  {
   "cell_type": "markdown",
   "id": "ad0bccdb",
   "metadata": {},
   "source": [
    "As you can see, it is very similar (but not identical to) the simple log1p transformation.\n",
    "\n",
    "From within R, to read more details, you can always find out more about a function by putting a question mark in front, and running in the console, as below:\n"
   ]
  },
  {
   "cell_type": "code",
   "execution_count": null,
   "id": "763765fa",
   "metadata": {
    "lines_to_next_cell": 0,
    "name": "helpdocs-normalizedata"
   },
   "outputs": [],
   "source": [
    "\n",
    "\n",
    "?Seurat::NormalizeData\n",
    "\n"
   ]
  },
  {
   "cell_type": "markdown",
   "id": "3b10850f",
   "metadata": {},
   "source": [
    "In HTML, the above will probably not print, but Seurat is well documented and you can read about this function here: https://satijalab.org/seurat/reference/normalizedata"
   ]
  },
  {
   "cell_type": "markdown",
   "id": "c92f0886",
   "metadata": {},
   "source": [
    "So normalization generally brings the extreme high counts to a scale that is more in line with the rest of the data. But why do we actually perform normalization?\n"
   ]
  },
  {
   "cell_type": "markdown",
   "id": "0f069683",
   "metadata": {},
   "source": [
    "The problem with non-normalized data is that super highly expressed genes may have more variance just because they are highly expressed. However, these may not always be the most interesting or important genes. We want genes that are not uniformly expressed in all cells, but in fact have different distributions in different groups of cells, such as marker genes. To adjust the variances and pick such genes, we we apply normalization. See below:\n"
   ]
  },
  {
   "cell_type": "code",
   "execution_count": null,
   "id": "cc311663",
   "metadata": {},
   "outputs": [],
   "source": [
    "#get non-normalized data\n",
    "mat <- GetAssayData(sobj, assay = 'RNA', layer = 'counts')\n",
    "\n",
    "#calculate gene means and variances \n",
    "rm <- rowMeans(mat)\n",
    "rv <- matrixStats::rowVars(as.matrix(mat))\n",
    "\n",
    "gdf <- data.frame(geneMeans = rm,\n",
    "                  geneVariances = rv)\n",
    "\n",
    "gg1 <- ggplot(gdf, aes(geneMeans, geneVariances))+\n",
    "  geom_point()+\n",
    "  geom_smooth()+\n",
    "  ggtitle('Raw counts, non-normalized')\n",
    "\n",
    "\n",
    "\n",
    "\n",
    "#get Seurat normalized data\n",
    "mat <- GetAssayData(sobj, assay = 'RNA', layer = 'data')\n",
    "\n",
    "#calculate gene means and variances \n",
    "rm <- rowMeans(mat)\n",
    "rv <- matrixStats::rowVars(as.matrix(mat))\n",
    "\n",
    "gdf <- data.frame(geneMeans = rm,\n",
    "                  geneVariances = rv)\n",
    "\n",
    "gg2 <- ggplot(gdf, aes(geneMeans, geneVariances))+\n",
    "  geom_point()+\n",
    "  geom_smooth()+\n",
    "  ggtitle('Normalized counts')\n",
    "\n",
    "\n",
    "\n",
    "gg1 + gg2"
   ]
  },
  {
   "cell_type": "markdown",
   "id": "8b4675e9",
   "metadata": {},
   "source": [
    "On the left, without any normalization, the variance is correlated with expression magnitude, and the highest variance genes also have the highest expression levels.\n",
    "\n",
    "On the right, with normalization, the variance is no longer driven by just how highly expressed the gene is. The gene expression magnitudes are more balanced, allowing prioritization of genes that actually have distinct expression patterns across cells.\n",
    "\n",
    "This type of normalization is called a \"variance-stabilizing transformation\". \n",
    "\n",
    "**To summarize, the reason we perform normalization is to remove the mean-variance relationship. We want to select interesting, Highly Variable Genes not just because they are highly expressed, but because they are diverse across cells.**\n",
    "\n"
   ]
  },
  {
   "cell_type": "markdown",
   "id": "0ad2bf9c",
   "metadata": {},
   "source": [
    "# Selection of highly variable genes (HVGs)"
   ]
  },
  {
   "cell_type": "markdown",
   "id": "df832fd3",
   "metadata": {},
   "source": [
    "It is important to introduce a concept of data \"dimensions\". The dimensions are the number of rows and columns of the matrix. This refers to the number of \"observations\" (cells, columns in this case), and the number of \"variables\" or \"features\" (genes, rows). With 10X Genomics single cell RNA-seq, this can range to tens of thousands of cells per sample (columns), and over 20,000 genes (rows - note non-protein coding RNAs can be counted as well).\n",
    "\n",
    "\n",
    "As input to the clustering, we perform a step called \"feature selection\". This involves prioritizing genes based on their variance. Highly variable genes (or HVGs) can include genes that are highly expressed in one group of cells, and not at all in another group of cells. A gene like that would be, by definition, a marker gene, and would be quite interesting to study or report.\n",
    "\n",
    "In clustering analysis and in machine learning generally, feature selection helps ensure we are only working with genes that have some capability to distinguish between cells. **It is very typical to include only highly-variable genes in clustering analysis. Including all genes or uniformly expressed genes in such analysis may or may not impact the downstream accuracy, but it certainly is computationally wasteful.** As such, this is the first level of \"dimension reduction\" applied to single-cell RNA-seq data.\n",
    "\n",
    "**Also note, the information of all genes is not thrown out, and expression of any gene can be checked later, such as in marker analysis. However, only information from HVGs is considered for PCA or clustering.**"
   ]
  },
  {
   "cell_type": "markdown",
   "id": "e96f9cd1",
   "metadata": {},
   "source": [
    "Let's use Seurat to calculate the top variable genes. The number of HVGs we want can be varied, which may affect the downstream analysis, although studies have found that downstream analysis is fairly robust this choice (https://www.ncbi.nlm.nih.gov/pmc/articles/PMC6582955/).\n",
    "\n",
    "\n"
   ]
  },
  {
   "cell_type": "code",
   "execution_count": null,
   "id": "56f12a4c",
   "metadata": {
    "lines_to_next_cell": 0,
    "name": "select-HVGs"
   },
   "outputs": [],
   "source": [
    "\n",
    "#default is 2000, but it can be varied if we want\n",
    "sobj <- FindVariableFeatures(sobj, nfeatures = 2000)\n"
   ]
  },
  {
   "cell_type": "markdown",
   "id": "0a36009f",
   "metadata": {},
   "source": [
    "We can inspect these HVGs also:"
   ]
  },
  {
   "cell_type": "code",
   "execution_count": null,
   "id": "cf8a14bf",
   "metadata": {
    "lines_to_next_cell": 2,
    "name": "inspect-hvgs-plot"
   },
   "outputs": [],
   "source": [
    "\n",
    "Seurat::VariableFeaturePlot(sobj)\n",
    "\n"
   ]
  },
  {
   "cell_type": "code",
   "execution_count": null,
   "id": "fcefafe9",
   "metadata": {
    "lines_to_next_cell": 2,
    "name": "inspect-hvgs-print"
   },
   "outputs": [],
   "source": [
    "\n",
    "#return top 20 HVGs\n",
    "head(VariableFeatures(sobj), 20)\n",
    "\n"
   ]
  },
  {
   "cell_type": "markdown",
   "id": "08da9282",
   "metadata": {},
   "source": [
    "Here we plot and print some of the top variable features. Oftentimes, this will include important cell type marker genes.\n",
    "\n"
   ]
  },
  {
   "cell_type": "markdown",
   "id": "c8fbb463",
   "metadata": {},
   "source": [
    "The HVGs (2000 by default) will be used for downstream analysis.\n",
    "\n",
    "\n"
   ]
  },
  {
   "cell_type": "markdown",
   "id": "56d7524b",
   "metadata": {},
   "source": [
    "# Principal Component Analysis (PCA)"
   ]
  },
  {
   "cell_type": "markdown",
   "id": "e73a1603",
   "metadata": {},
   "source": [
    "Many genes are strongly correlated (co-expressed). We know that many genes may be regulated in similar ways, ie at the pathway level. While one gene may be noisy, a co-expressed group of genes is usually less affected by noise.\n",
    "\n",
    "PCA allows us to accomplish two things are once: study tightly correlated groups of genes, and take advantage of the noise reduction that arises from co-expressed gene redundances for downstream analysis."
   ]
  },
  {
   "cell_type": "markdown",
   "id": "2ac15be6",
   "metadata": {},
   "source": [
    "First, we perform a scaling and centering transformation (ie, transform normalized gene expression counts to Z-scores). Note that this turns data from log-scale, all positive counts, to Z scores, which by definition can be positive or negative, and are often between the interval from -3 to 3. This is done to standardize the expression magnitudes and to emphasize the relative differences of gene expression across cells for input to PCA.\n",
    "\n",
    "This is easy in Seurat:\n"
   ]
  },
  {
   "cell_type": "code",
   "execution_count": null,
   "id": "0003340b",
   "metadata": {
    "lines_to_next_cell": 2,
    "name": "scale-hvgs"
   },
   "outputs": [],
   "source": [
    "\n",
    "sobj <- ScaleData(sobj)\n",
    "\n"
   ]
  },
  {
   "cell_type": "markdown",
   "id": "a2395957",
   "metadata": {},
   "source": [
    "Now, we run PCA using Seurat. This is a complex algorithm and the details are beyond the scope of this vignette. However, let's think about the inputs and outputs. \n",
    "\n",
    "The input of PCA is the scaled gene rows. The output of PCA are the so-called Prinicpal Components (PCs). These have two imporant pieces of information, which we will dive into after computing PCA. We can decide how many PCs to compute, usually 50 or less is sufficient.\n",
    "\n",
    "\n",
    "\n",
    "\n",
    "\n"
   ]
  },
  {
   "cell_type": "code",
   "execution_count": null,
   "id": "b3de8648",
   "metadata": {
    "lines_to_next_cell": 2,
    "name": "run-pca"
   },
   "outputs": [],
   "source": [
    "\n",
    "\n",
    "sobj <- RunPCA(sobj, npcs = 30)\n",
    "\n"
   ]
  },
  {
   "cell_type": "markdown",
   "id": "54b6995c",
   "metadata": {},
   "source": [
    "PCs are complex variables with two key components: PC embeddings, and PC feature loadings."
   ]
  },
  {
   "cell_type": "markdown",
   "id": "b54b1286",
   "metadata": {},
   "source": [
    "The most important part of the PCs for the purpose of clustering scRNA-seq data are referred to as PCA \"embeddings\". Let's visualize them below:\n",
    "\n",
    "``` {r pca-embeddings}\n",
    "\n",
    "sobj@reductions$pca@cell.embeddings[1:5,1:5]\n",
    "\n",
    "\n",
    "```\n",
    "These are scores for each cell for each PC (note the row names are cell barcodes)."
   ]
  },
  {
   "cell_type": "markdown",
   "id": "e80404f3",
   "metadata": {},
   "source": [
    "Lets visualize the PCA embeddings for PC1 and PC2:\n"
   ]
  },
  {
   "cell_type": "code",
   "execution_count": null,
   "id": "18bce9e8",
   "metadata": {
    "lines_to_next_cell": 0,
    "name": "pca-embeddings-plot"
   },
   "outputs": [],
   "source": [
    "\n",
    "DimPlot(sobj) + ggtitle('PCA plot')\n"
   ]
  },
  {
   "cell_type": "markdown",
   "id": "e03aff9e",
   "metadata": {},
   "source": [
    "In this plot, each cell is a point, and the points are grouped according to their transcriptomic patterns, as identified by the first two PCs, PC1 and PC2. Plotting the first two PCs are usually what are referred to as \"PCA plots\".\n",
    "\n",
    "It may already be apparent that groups of cells are separating quite clearly in PCA. The clustering analysis that we will run in a few moments is a machine-learning method to make the best possible, data-driven choice to classify each cell to a cluster.\n"
   ]
  },
  {
   "cell_type": "markdown",
   "id": "f2986595",
   "metadata": {},
   "source": [
    "The other important part of each PC is referred to as the PC \"feature loadings\":"
   ]
  },
  {
   "cell_type": "code",
   "execution_count": null,
   "id": "530c8b6b",
   "metadata": {
    "name": "pca-loadings"
   },
   "outputs": [],
   "source": [
    "\n",
    "sobj@reductions$pca@feature.loadings[1:5,1:5]\n"
   ]
  },
  {
   "cell_type": "markdown",
   "id": "0eda19eb",
   "metadata": {},
   "source": [
    "These are scores for each gene for each PC (note the row names are gene names)."
   ]
  },
  {
   "cell_type": "markdown",
   "id": "953e7bfc",
   "metadata": {},
   "source": [
    "We can also visualize the genes most important to the first two PCs (as weighted by the feature loadings):"
   ]
  },
  {
   "cell_type": "code",
   "execution_count": null,
   "id": "f104a9bf",
   "metadata": {
    "name": "pca-loadings-plot"
   },
   "outputs": [],
   "source": [
    "\n",
    "Seurat::PCHeatmap(sobj, dims = c(1:2))"
   ]
  },
  {
   "cell_type": "markdown",
   "id": "b9003edc",
   "metadata": {},
   "source": [
    "In these heatmaps, yellow is highly expressed, black is close to the mean, and purple is lowly expressed (below the mean). The columns are genes. Essentially, this allows us to see groups of correlated genes that are also highly variable across cells in the dataset. The separation between cells along the PC1 and PC2 axis is driven by these genes.\n",
    "\n"
   ]
  },
  {
   "cell_type": "markdown",
   "id": "f4f3ca9e",
   "metadata": {},
   "source": [
    "A very important way to visualize PCA is via the \"Elbow Plot\":\n"
   ]
  },
  {
   "cell_type": "code",
   "execution_count": null,
   "id": "d36a5589",
   "metadata": {
    "lines_to_next_cell": 2,
    "name": "pca-elbowplot"
   },
   "outputs": [],
   "source": [
    "\n",
    "ElbowPlot(sobj, ndims = 30)\n"
   ]
  },
  {
   "cell_type": "markdown",
   "id": "17779d9f",
   "metadata": {},
   "source": [
    "The order (and labels) of each PC is not arbitrary. Each PC captures a decreasing amount of variation in between cells in the dataset. In the elbow plot, the X axis is each PC, and the Y axis is the amount of variance in the dataset explained by each PC."
   ]
  },
  {
   "cell_type": "markdown",
   "id": "9f4ad19a",
   "metadata": {},
   "source": [
    "One important hyperparameter that can vary quite a bit across datasets is the selection of how many PCs we want to include in the downstream analysis, including clustering. The idea is to pick the minimum number of PCs that explains a large amount of variance, but not to pick too many, since sometimes gene variance can be driven by noise.\n",
    "\n",
    "There is no perfect or universally agreed-upon number or method for selecting the number of PCs, but usually, it is done by choosing the \"elbow\" point on the elbow plot above. This is the inflection point at which variance \"flatlines\", and above this point, the added variance is minimal."
   ]
  },
  {
   "cell_type": "markdown",
   "id": "7e02bff2",
   "metadata": {},
   "source": [
    "## Interactive time: pick a value for how many PCs\n",
    "\n",
    "Using the elbow plot above, pick a value you believe represents the Elbow point, by replacing the 30 with a different number after the equal sign in the code block below:"
   ]
  },
  {
   "cell_type": "code",
   "execution_count": null,
   "id": "f26ef4de",
   "metadata": {
    "lines_to_next_cell": 2,
    "name": "choose-elbow"
   },
   "outputs": [],
   "source": [
    "\n",
    "#replace the 30 with a number to use. It must be 2 or higher, or less than 30.\n",
    "npc_elbowpoint = 30\n"
   ]
  },
  {
   "cell_type": "markdown",
   "id": "41923d75",
   "metadata": {},
   "source": [
    "Keep in mind, there may be many clearly wrong answers, but not necessarily a single right answer."
   ]
  },
  {
   "cell_type": "markdown",
   "id": "d9cbdae3",
   "metadata": {},
   "source": [
    "Below we will plot an elbow plot with our choice selected. We can always change it later."
   ]
  },
  {
   "cell_type": "code",
   "execution_count": null,
   "id": "1b406a6b",
   "metadata": {
    "lines_to_next_cell": 0,
    "name": "pca-elbowplot-vline"
   },
   "outputs": [],
   "source": [
    "\n",
    "\n",
    "#the code below will plot a elbow plot with the number you chose.\n",
    "ElbowPlot(sobj, ndims = 30) + geom_vline(xintercept = npc_elbowpoint, linetype = 'dotted')\n",
    "\n",
    "\n"
   ]
  },
  {
   "cell_type": "markdown",
   "id": "61429cb1",
   "metadata": {},
   "source": [
    "\n"
   ]
  },
  {
   "cell_type": "markdown",
   "id": "f2cae2f8",
   "metadata": {},
   "source": [
    "**The selection of number of PCs is key parameter which can affect the downstream clustering and results. As such, it is very important to keep track of which number is selected, and to report it in the methods when publishing.**\n",
    "\n",
    "Both PCA and PC number selection are further forms of dimension reduction. They are used as input for clustering.\n",
    "\n",
    "As a recap, we stated with cell by gene (20,000 rows) matrix; reduced to cell by HVG (3,000 rows) matrix, retaining only the genes with high discriminatory power across cells; and after PCA, we work with the embeddings, resulting in a cell by PC embedding matrix (30 rows). The cell PC embedding matrix is used as input for clustering, and represents a highly reduced but information-rich form of data.\n"
   ]
  },
  {
   "cell_type": "markdown",
   "id": "2072daef",
   "metadata": {},
   "source": [
    "# Graph, Cluster, and Visualization\n"
   ]
  },
  {
   "cell_type": "markdown",
   "id": "1c8db52a",
   "metadata": {},
   "source": [
    "Once we have completed PCA, we can move on to the strange world of high-dimensional clouds, sparsity, and non-linearity.\n",
    "\n",
    "Imagine the universe: there are vast pockets of nearly empty space, but there are also regions of immense density of matter, such as gas clouds and galaxies. This is quite similar to the topology of high-dimensional single-cell data. However, rather than existing in a 3D space like us, when we examine the molecular profiles of cells, we are forced to think in extremely high dimensional space. The dimensionality of a dataset is defined by the number of variables: number of genes, reduced to number of HVGs, reduced to number of PCs. This is why PCA is also referred to as \"dimension reduction\".\n",
    "\n",
    "Additionally, cellular space can often by highly non-linear. The best way to imagine this is via the \"swiss roll\" example.\n",
    "\n",
    "(Hungry? Thanks SGB and Genetics for the food!)\n",
    "\n",
    "\n",
    "\n",
    "![](images/swissroll.png)\n",
    "\n"
   ]
  },
  {
   "cell_type": "markdown",
   "id": "b822aab2",
   "metadata": {},
   "source": [
    "On the left side, clustering was applied using Euclidean distance, a linear measure of distance. However, points have been clustered improperly. For example, the red cluster includes points close to the innermost and outerpost parts of this roll. \n",
    "\n",
    "To get around this, we must use specialized neighbor-hood based methods, or non-linear distance approaches. On the right side, a nearest-neighbor based constraint was introduced to clustering and the results look much better."
   ]
  },
  {
   "cell_type": "markdown",
   "id": "bdcaed1c",
   "metadata": {},
   "source": [
    "So to summarize: molecular profiles of cells are defined by high dimensionality and non-linearity. To deal with this complex type of data, we can rely on a very tool in single-cell analysis: the K-nearest neighbor (KNN) graph.\n",
    "\n",
    "KNN graphs work by iterating through each cell, finding the closes cells in high-dimensional PCA space. They are agnostic to the actual distances between cells. "
   ]
  },
  {
   "cell_type": "markdown",
   "id": "20b8a421",
   "metadata": {},
   "source": [
    "A key input parameter is the number of PCs as we selected above. This determines the dimensionality of the space within which to compute the graph.\n",
    "Another parameter called \"k\" is the number of nearest neighbors to detect for each cell. It is often kept at the default of 20 in Seurat, but it can be another important choice.\n",
    "\n",
    "\n"
   ]
  },
  {
   "cell_type": "code",
   "execution_count": null,
   "id": "56dfbace",
   "metadata": {
    "lines_to_next_cell": 0,
    "name": "compute-graph"
   },
   "outputs": [],
   "source": [
    "\n",
    "#make sure you have set the npc_elbowpoint variable above.\n",
    "\n",
    "\n",
    "sobj <- FindNeighbors(sobj, dims = 1:npc_elbowpoint)\n"
   ]
  },
  {
   "cell_type": "markdown",
   "id": "e2c584a4",
   "metadata": {},
   "source": [
    "One way we can visualize the KNN graph is by using a graph-based, non-linear dimension reduction method, such as t-SNE or UMAP. These are similar to PCA, but they are able to better account for non-linearity in the data.\n",
    "\n",
    "(Note that because of the way the software is written, the function below actually computes its own graph under the hood.)\n",
    "\n"
   ]
  },
  {
   "cell_type": "code",
   "execution_count": null,
   "id": "a005ad35",
   "metadata": {
    "lines_to_next_cell": 0,
    "name": "compute-tsne-umap"
   },
   "outputs": [],
   "source": [
    "\n",
    "#make sure you have set the npc_elbowpoint variable above.\n",
    "\n",
    "sobj <- RunTSNE(sobj, dims = 1:npc_elbowpoint)\n",
    "sobj <- RunUMAP(sobj, dims = 1:npc_elbowpoint)\n",
    "\n",
    "\n"
   ]
  },
  {
   "cell_type": "markdown",
   "id": "0a6ea807",
   "metadata": {},
   "source": [
    "\n"
   ]
  },
  {
   "cell_type": "markdown",
   "id": "05487556",
   "metadata": {},
   "source": [
    "Let's visualize these plots now:\n"
   ]
  },
  {
   "cell_type": "code",
   "execution_count": null,
   "id": "a93fc0e4",
   "metadata": {
    "lines_to_next_cell": 2,
    "name": "plot-tsne-umap"
   },
   "outputs": [],
   "source": [
    "\n",
    "\n",
    "tsne <- DimPlot(sobj, reduction = 'tsne') + NoLegend()\n",
    "umap <- DimPlot(sobj, reduction = 'umap') + NoLegend() #if both are calculated, and reduction is not set, it will default to umap\n",
    "\n",
    "\n",
    "\n",
    "tsne + umap\n"
   ]
  },
  {
   "cell_type": "markdown",
   "id": "873215ee",
   "metadata": {},
   "source": [
    "In general, UMAP plots are said to emphasize \"global\" connectivity between cell groups, while tSNE emphasize local connectivity between individual cells. For example, T and B cells (both of which are lymphocytes) may be closer together in a UMAP than a tSNE plot."
   ]
  },
  {
   "cell_type": "markdown",
   "id": "0fdab3f2",
   "metadata": {},
   "source": [
    "In contrast to PCA, these methods are built to account for high dimensionality and non-linearity, so they are often able to illustrate separation between cells more cleanly. However, note that these same factors limit the interpretability of the axes. The empty space between groups of cells is not simply proportional to how similar or not the groups are.\n",
    "\n",
    "**Analysis of UMAP / tSNE plots should strictly be limited to qualitative exploratory data analysis. You should never over-focus on the axes or distances between cell groups, or draw grid-lines and compare densities, etc.**"
   ]
  },
  {
   "cell_type": "markdown",
   "id": "807285a5",
   "metadata": {},
   "source": [
    "Finally, using the KNN graph we computed, we can perform the clustering procedure to group cells together. We use a method called \"Louvain clustering\", which works well with high dimensional, non-linear data. It clusters cells based on density of the graph.\n",
    "\n",
    "One important parameter in Louvain clustering is referred to as \"resolution\". This controls the number of clusters detected. We will explore this in a moment.\n"
   ]
  },
  {
   "cell_type": "code",
   "execution_count": null,
   "id": "f6477e3c",
   "metadata": {
    "lines_to_next_cell": 2,
    "name": "compute-clusters"
   },
   "outputs": [],
   "source": [
    "\n",
    "sobj <- FindClusters(sobj, resolution = 0.5)\n",
    "\n"
   ]
  },
  {
   "cell_type": "markdown",
   "id": "c62b1b26",
   "metadata": {},
   "source": [
    "This adds the clustering information for each cell to the seurat metadata:"
   ]
  },
  {
   "cell_type": "code",
   "execution_count": null,
   "id": "9105a359",
   "metadata": {
    "name": "check-metadata-clusters"
   },
   "outputs": [],
   "source": [
    "\n",
    "head(sobj@meta.data, 5)\n",
    "\n"
   ]
  },
  {
   "cell_type": "markdown",
   "id": "d99fefdb",
   "metadata": {},
   "source": [
    "Two variables will be created: one starting with \"RNA_snn_res.NUMBER\", which stores the clusters with resolution in the varaible name, and an identical variable just called \"seurat_clusters\". If you re-run clustering with a different resolution, it will overwrite seurat_clusters, but create a new column with the resolution value you choose."
   ]
  },
  {
   "cell_type": "markdown",
   "id": "02329630",
   "metadata": {},
   "source": [
    "Once clustering is done, we can now plot the clusters on the UMAP:"
   ]
  },
  {
   "cell_type": "code",
   "execution_count": null,
   "id": "1fd6b573",
   "metadata": {
    "lines_to_next_cell": 0,
    "name": "plot-tsne-umap-clusters"
   },
   "outputs": [],
   "source": [
    "\n",
    "\n",
    "\n",
    "DimPlot(sobj, reduction = 'umap', group.by = 'RNA_snn_res.0.5', label = T)\n",
    "\n"
   ]
  },
  {
   "cell_type": "markdown",
   "id": "1fa003f2",
   "metadata": {},
   "source": [
    "The resolution parameter, like the PC parameter, can have a strong affect on the clustering results, and as such must also be reported."
   ]
  },
  {
   "cell_type": "markdown",
   "id": "d3317646",
   "metadata": {},
   "source": [
    "Note that the clusters are sorted by number of cells. The first cluster (cluster 0) is the biggest cluster with the most cells. However, this is a useful trick that Seurat automatically does for us, rather than a built-in feature of the Louvain clustering algorithm.\n"
   ]
  },
  {
   "cell_type": "markdown",
   "id": "367878a9",
   "metadata": {},
   "source": [
    "# Hyperparameter selection: 1) number of PCs and 2) Louvain resolution."
   ]
  },
  {
   "cell_type": "markdown",
   "id": "11dd7a57",
   "metadata": {},
   "source": [
    "Let's quickly review what we have learnt so far about PC selection and clustering. These are referred to as \"hyperparameters\", because there is no universally agreed upon way to select these values, and they may vary from dataset to dataset."
   ]
  },
  {
   "cell_type": "markdown",
   "id": "03bdd667",
   "metadata": {},
   "source": [
    "We will vary the number of PCs while keeping cluster resolution the same, and see the effect below:\n"
   ]
  },
  {
   "cell_type": "code",
   "execution_count": null,
   "id": "b3696eb9",
   "metadata": {
    "lines_to_next_cell": 0,
    "name": "paramsweep_PCs"
   },
   "outputs": [],
   "source": [
    "\n",
    "#for each PC of values 2 through 10, we'll run graph, UMAP, and clustering:\n",
    "# we start with 2 since at least 2 PCs are needed.\n",
    "sweep_npcs_input <- 2:10\n",
    "\n",
    "#create a backup seurat object\n",
    "sobjx <- sobj\n",
    "\n",
    "\n",
    "#for each PC value, rerun analysis and make a UMAP, which we save to a list object\n",
    "out_umaps_list_pcs <- lapply(sweep_npcs_input, function(npc_sweep){\n",
    "  \n",
    "  message(npc_sweep)\n",
    "  \n",
    "  #in three lines, graph, umap, and cluster with each PC value, keeping louvain res the same:\n",
    "  suppressMessages( sobjx <- FindNeighbors(sobjx, dims = 1:npc_sweep,verbose=F) )\n",
    "  suppressMessages( sobjx <- RunUMAP(sobjx, dims = 1:npc_sweep, verbose=F) )\n",
    "  suppressMessages( sobjx <- FindClusters(sobjx, resolution = 0.5, verbose=F) )\n",
    "  \n",
    "  suppressMessages( DimPlot(sobjx, reduction = 'umap', group.by = 'seurat_clusters') + \n",
    "                      ggtitle(paste0(\"PCs 1:\", npc_sweep))  \n",
    "  )\n",
    "  \n",
    "  \n",
    "})\n",
    "\n"
   ]
  },
  {
   "cell_type": "markdown",
   "id": "4c22c497",
   "metadata": {},
   "source": [
    "Let's plot the results below."
   ]
  },
  {
   "cell_type": "code",
   "execution_count": null,
   "id": "0c938968",
   "metadata": {
    "fig.height": 6,
    "fig.width": 8,
    "name": "paramsweep_PCs-visualize"
   },
   "outputs": [],
   "source": [
    "\n",
    "patchwork::wrap_plots(out_umaps_list_pcs, ncol = 3)\n",
    "\n",
    "#if hard to see, remove hash tag \"#\" on line below.\n",
    "# out_umaps_list_pcs\n"
   ]
  },
  {
   "cell_type": "markdown",
   "id": "3a9c697e",
   "metadata": {},
   "source": [
    "If plots are not visible, try increasing the fig.height and fig.width values, or removing the hashtag (\"#\") in front of the line that has the hash tag in the code block abode "
   ]
  },
  {
   "cell_type": "markdown",
   "id": "f5be1c34",
   "metadata": {},
   "source": [
    "As we can (hopefully) see, increasing numbers of PCs usually results in increased separation between cells and clusters. It also has a more subtle affect on the number of clusters detected. This is because increasing the number of PCs allows use of more information during graphing and clustering. However, too many PCs can result in introduction of noise, so best to rely on the elbow plots as explained above.\n"
   ]
  },
  {
   "cell_type": "markdown",
   "id": "2c3864f3",
   "metadata": {},
   "source": [
    "Let's repeat the analysis, this time varying only the Louvain resolution, while keeping PCs the same as what you selected above (\"npc_elbowpoint\" variable).\n"
   ]
  },
  {
   "cell_type": "code",
   "execution_count": null,
   "id": "cab9e904",
   "metadata": {
    "lines_to_next_cell": 2,
    "name": "paramsweep_res"
   },
   "outputs": [],
   "source": [
    "\n",
    "\n",
    "#we'll select some resolution values, then loop thru each with clustering.\n",
    "sweep_res_input <- seq(0.1, 3, by = 0.3)\n",
    "\n",
    "#create a backup seurat object\n",
    "sobjx <- sobj\n",
    "\n",
    "out_umaps_list_res <- lapply(sweep_res_input, function(res_sweep){\n",
    "  \n",
    "  message(res_sweep)\n",
    "  \n",
    "  #in three lines, graph, umap, and cluster with each PC value, keeping louvain res the same:\n",
    "  suppressMessages( sobjx <- FindNeighbors(sobjx, dims = 1:npc_elbowpoint,verbose=F) )\n",
    "  suppressMessages( sobjx <- RunUMAP(sobjx, dims = 1:npc_elbowpoint, verbose=F) )\n",
    "  suppressMessages( sobjx <- FindClusters(sobjx, resolution = res_sweep, verbose=F) )\n",
    "  \n",
    "  suppressMessages( DimPlot(sobjx, reduction = 'umap', group.by = 'seurat_clusters') + \n",
    "                      ggtitle(paste0(\"Louvain res: \", res_sweep))  \n",
    "  )\n",
    "  \n",
    "  \n",
    "})\n",
    "\n"
   ]
  },
  {
   "cell_type": "markdown",
   "id": "7da208a9",
   "metadata": {},
   "source": [
    "Let's plot the results below."
   ]
  },
  {
   "cell_type": "code",
   "execution_count": null,
   "id": "080e2352",
   "metadata": {
    "fig.height": 10,
    "fig.width": 8,
    "lines_to_next_cell": 0,
    "name": "paramsweep_res-visualize"
   },
   "outputs": [],
   "source": [
    "\n",
    "patchwork::wrap_plots(out_umaps_list_res, ncol = 4)\n",
    "\n",
    "\n",
    "# if plots are not visible, remove the hash tag on the below line below, then you can click through the plots\n",
    "# out_umaps_list_res\n"
   ]
  },
  {
   "cell_type": "markdown",
   "id": "556724b6",
   "metadata": {},
   "source": [
    "\n"
   ]
  },
  {
   "cell_type": "markdown",
   "id": "15c59cf2",
   "metadata": {},
   "source": [
    "If we keep the number of PCs the same but vary the Louvain resolution, we notice that the UMAP will look exactly identical. This is because it is based on a graph that depends only on the number of PCs. However, the number of clusters changes dramatically. "
   ]
  },
  {
   "cell_type": "markdown",
   "id": "bd1df8bb",
   "metadata": {},
   "source": [
    "To summarize:\n",
    "\n",
    "Low PCs = less information input to graph / clusters; high PCs = more information (but also potentially more noise).\n",
    "\n",
    "Low louvain resolution = less clusters, high resolution = more clusters.\n",
    "\n",
    "How do we pick the best values of these? This is a challenging question.\n",
    "\n",
    "For PCs, the elbow point is often accepted as the most reasonable selection. Inspection of feature loadings via `Seurat::PCHeatmap()` plots is another method sometimes used.\n",
    "\n",
    "For Louvain clusteringresolution, the answer is more difficult and sometimes can be specific to the dataset or the goal of the analysis. Oftentimes, starting with a low resolution to identify big clusters, and then checking a high resolution to study smaller clusters can be helpful. Another way is to use low resolution, and then for each big cluster, specifically select those cells and re-run the whole pipeline (HVG selection, PCA, and clustering), in order to identify \"sub-clusters\".\n",
    "\n",
    "With data-driven techniques alone, such choices are difficult. Making such choices on the basis of biological interpretability is a safer bet, and one way we can do that is via marker analysis.\n",
    "\n"
   ]
  },
  {
   "cell_type": "markdown",
   "id": "aabe6f49",
   "metadata": {},
   "source": [
    "# Marker analysis\n",
    "\n",
    "Now that we have identified clusters, we can identify genes that are specific to each cluster, which we call \"marker genes\"."
   ]
  },
  {
   "cell_type": "markdown",
   "id": "2991b742",
   "metadata": {},
   "source": [
    "This analysis uses methods of differential expression analysis between clusters to find genes overexpressed in each of them. This is implemented in the Seurat `FindAllMarkers` function.\n",
    "\n",
    "By default, these functions use a non-parametric two-sample test, the Wilcoxon rank-sum test. This test is also called the Mann Whitney U test, among other names. It is a non-parametric version of the two sample t-test, to compare the distribution of a variable between two groups.\n",
    "\n",
    "For cluster 1, we take the cells in that cluster, and compare the gene expression levels relative to cells from all other clusters. So the groups are Cluster 1 vs all cells, Cluster 2 vs all cells, etc. We do this for each gene.\n",
    "\n",
    "The Seurat `FindMarkers` function can be used to specifically compare clusters rather than \"cluster 1 vs all\", if required.\n",
    "\n"
   ]
  },
  {
   "cell_type": "markdown",
   "id": "2779a613",
   "metadata": {},
   "source": [
    "Let's do some marker analysis:\n"
   ]
  },
  {
   "cell_type": "code",
   "execution_count": null,
   "id": "ad6354c6",
   "metadata": {
    "name": "findallmarkers"
   },
   "outputs": [],
   "source": [
    "\n",
    "#this selects only positive markers which is not the default, but recommended\n",
    "m <- FindAllMarkers(sobj, only.pos = T)\n"
   ]
  },
  {
   "cell_type": "markdown",
   "id": "f4c02cb6",
   "metadata": {},
   "source": [
    "Note that we select only positive markers, rather than \"negative markers\", which would be genes expressed in all clusters expect cluster 1, etc.\n",
    "\n",
    "Let's inspect the output:"
   ]
  },
  {
   "cell_type": "code",
   "execution_count": null,
   "id": "2c83aece",
   "metadata": {
    "name": "markers-head"
   },
   "outputs": [],
   "source": [
    "\n",
    "\n",
    "head(m)\n"
   ]
  },
  {
   "cell_type": "markdown",
   "id": "84703956",
   "metadata": {},
   "source": [
    "Each gene is a row, and the rows have some information about the gene xpression. The column called \"cluster\" denotes that this gene was overexpressed in a particular cluster.\n",
    "\n",
    "\"p_val\" is the Wilcoxon test P value result. \n",
    "\"avg_log2FC\" is a measure of effect size comparing expression levels of this gene in cells of the indicated cluster relative to cells not in this cluster (all other cells).\n",
    "\"pct.1\" is another effect size metric, indicating the percent of genes in the cluster that express at least one count of this gene.\n",
    "\"pct.2\" is another effect size metric, indicating the percent of genes outside of this cluster that express at least one count of this gene.\n",
    "\"p_val_adj\" is the p_val after multiple test correction for many genes via the Bonferroni correction.\n",
    "\"cluster\" indicates the cluster each row (each gene) is overexpressed in.\n",
    "\"gene\" is the gene name. Note that this is also in the rownames, but using the \"gene\" column is more reliable, because if a gene is found to be a marker of more than one cluster, the row-names will be incorrect.\n"
   ]
  },
  {
   "cell_type": "markdown",
   "id": "a3f5045c",
   "metadata": {},
   "source": [
    "We can count how many marker genes were identified for each cluster:"
   ]
  },
  {
   "cell_type": "code",
   "execution_count": null,
   "id": "dd0dc982",
   "metadata": {
    "lines_to_next_cell": 2,
    "name": "markers-table"
   },
   "outputs": [],
   "source": [
    "\n",
    "\n",
    "table(m$cluster)\n"
   ]
  },
  {
   "cell_type": "markdown",
   "id": "b48d5f18",
   "metadata": {},
   "source": [
    "It is not uncommon to see hundreds or thousands of genes for each cluster. Note that this can be one metric used during selection of the hyperparameters above (especially Louvain Resolution). If a cluster has no specific marker genes, chances are it be have been classified based off some type of noise, and a lower resolution is required.\n"
   ]
  },
  {
   "cell_type": "markdown",
   "id": "d05c65e6",
   "metadata": {},
   "source": [
    "Additionally, many of the genes may be considered to be overexpressed, but might be fairly non-specific. By default, the genes are sorted within each cluster, by the avg_log2FC.\n",
    "\n",
    "In the Deyou Zheng lab, we apply a special scoring metric, which emphasizes specificity and sensitivity of the markers, rather than expression magnitude alone. In our hands, this usually results in more specific marker genes, rather than genes which are simply over-expressed to some extent. We provide the score in the code block below:\n",
    "\n"
   ]
  },
  {
   "cell_type": "code",
   "execution_count": null,
   "id": "8e6c09d1",
   "metadata": {
    "lines_to_next_cell": 0,
    "name": "markers-addscore"
   },
   "outputs": [],
   "source": [
    "\n",
    "#note that all l2FC must be positive for this to work.\n",
    "m$score <- (m$pct.1 - m$pct.2) * m$avg_log2FC\n"
   ]
  },
  {
   "cell_type": "markdown",
   "id": "9e71f037",
   "metadata": {},
   "source": [
    "\n",
    "\n"
   ]
  },
  {
   "cell_type": "markdown",
   "id": "18b2a5dd",
   "metadata": {},
   "source": [
    "## Visualizing gene expression\n"
   ]
  },
  {
   "cell_type": "markdown",
   "id": "1421474d",
   "metadata": {},
   "source": [
    "First, let's remember what our clusters look like by checking the UMAP:"
   ]
  },
  {
   "cell_type": "code",
   "execution_count": null,
   "id": "f3101f9e",
   "metadata": {
    "lines_to_next_cell": 2,
    "name": "markers-plot-dimplot"
   },
   "outputs": [],
   "source": [
    "\n",
    "DimPlot(sobj, label = T)\n"
   ]
  },
  {
   "cell_type": "markdown",
   "id": "2eb0d5b0",
   "metadata": {},
   "source": [
    "One way to visualize expression is to plot it right on the UMAP. Let's plot the top marker of each cluster on the UMAP:\n"
   ]
  },
  {
   "cell_type": "code",
   "execution_count": null,
   "id": "ed198451",
   "metadata": {
    "lines_to_next_cell": 0,
    "name": "markers-plot-featureplot"
   },
   "outputs": [],
   "source": [
    "\n",
    "ngene <- 1\n",
    "\n",
    "top <- m %>% group_by(cluster) %>% top_n(n = ngene, wt = score)\n",
    "\n",
    "\n",
    "top\n"
   ]
  },
  {
   "cell_type": "code",
   "execution_count": null,
   "id": "bd1d2889",
   "metadata": {},
   "outputs": [],
   "source": [
    "FeaturePlot(sobj, features = top$gene, label=T)"
   ]
  },
  {
   "cell_type": "markdown",
   "id": "66619eb9",
   "metadata": {},
   "source": [
    "This can be a powerful way to show a small number of genes in the context of cluster separation. But it does take up a lot of space."
   ]
  },
  {
   "cell_type": "markdown",
   "id": "c9b7a537",
   "metadata": {},
   "source": [
    "Another commonly used way to visualize a small number of genes is called a Violin Plot. Let's make these for the top markers:\n",
    "\n"
   ]
  },
  {
   "cell_type": "code",
   "execution_count": null,
   "id": "d9f00e79",
   "metadata": {
    "lines_to_next_cell": 2,
    "name": "markers-plot-vlnplot"
   },
   "outputs": [],
   "source": [
    "\n",
    "ngene <- 1\n",
    "\n",
    "top <- m %>% group_by(cluster) %>% top_n(n = ngene, wt = score)\n",
    "\n",
    "\n",
    "VlnPlot(sobj, features = top$gene)\n"
   ]
  },
  {
   "cell_type": "markdown",
   "id": "1ea69f44",
   "metadata": {},
   "source": [
    "Just like in the quality control violin plots, each point is a cell, and the violin represents the cell distribution. This gives us a sense of both the expression magnitude and the number of cells that express the gene. However, note that there may be hundreds or thousands of cells that do not show any expression. These are the thick black lines above the numbers in some of the plots above.\n",
    "\n",
    "\n"
   ]
  },
  {
   "cell_type": "markdown",
   "id": "e55ce6a6",
   "metadata": {},
   "source": [
    "Now, we will produce some plots showing the top genes for each cluster. Let's select the top 5 genes per cluster, weight it by the default (avg_log2FC), and plot them as a heatmap.\n",
    "\n"
   ]
  },
  {
   "cell_type": "code",
   "execution_count": null,
   "id": "668796f2",
   "metadata": {
    "lines_to_next_cell": 2,
    "name": "markers-plot-heatmap-l2fc"
   },
   "outputs": [],
   "source": [
    "\n",
    "ngene <- 5\n",
    "\n",
    "top <- m %>% group_by(cluster) %>% top_n(n = ngene, wt = avg_log2FC)\n",
    "\n",
    "\n",
    "genes <- top$gene\n",
    "#we must scale these genes for heatmap\n",
    "sobj <- ScaleData(sobj, features = genes)\n",
    "\n",
    "DoHeatmap(sobj, genes) + ggtitle('Heatmap of top markers by avg_log2FC')\n"
   ]
  },
  {
   "cell_type": "markdown",
   "id": "125ee39e",
   "metadata": {},
   "source": [
    "Let's compare this with a heatmap of genes, where we select the top 5 genes by the score we calculated:\n"
   ]
  },
  {
   "cell_type": "code",
   "execution_count": null,
   "id": "63d47219",
   "metadata": {
    "lines_to_next_cell": 0,
    "name": "markers-plot-heatmap-score"
   },
   "outputs": [],
   "source": [
    "\n",
    "ngene <- 5\n",
    "\n",
    "top <- m %>% group_by(cluster) %>% top_n(n = ngene, wt = score)\n",
    "\n",
    "genes <- top$gene\n",
    "\n",
    "\n",
    "sobj <- ScaleData(sobj, features = genes)\n",
    "\n",
    "DoHeatmap(sobj, genes)+ ggtitle('Heatmap of top markers by (pct1-pct2)*avgl2FC score')\n"
   ]
  },
  {
   "cell_type": "markdown",
   "id": "b35ef866",
   "metadata": {},
   "source": [
    "\n"
   ]
  },
  {
   "cell_type": "markdown",
   "id": "5da59103",
   "metadata": {},
   "source": [
    "Marker heatmaps can be a useful way to show how genes are specific to or shared across clusters. Sometimes, plotting the top markers can reveal that some clusters are actually composed of similar cell types.\n",
    "\n",
    "\n",
    "\n"
   ]
  },
  {
   "cell_type": "markdown",
   "id": "2085e109",
   "metadata": {},
   "source": [
    "Similar to a heatmap, we can also show a Seurat Dot Plot. Here, the cells in each cluster are averaged, and the size of the dots is proportional to the percent of cells expressing each gene.\n",
    "\n"
   ]
  },
  {
   "cell_type": "code",
   "execution_count": null,
   "id": "36afd103",
   "metadata": {
    "lines_to_next_cell": 0,
    "name": "markers-plot-dotplot-score"
   },
   "outputs": [],
   "source": [
    "\n",
    "\n",
    "#if you like, you can modify the number of genes and font sizes\n",
    "ngene <- 5\n",
    "gene_font_size <- 7\n",
    "\n",
    "\n",
    "\n",
    "\n",
    "top <- m %>% group_by(cluster) %>% top_n(n = ngene, wt = score)\n",
    "\n",
    "genes <- top$gene\n",
    "\n",
    "DotPlot(sobj, features = unique(rev(genes))) +\n",
    "  coord_flip()+\n",
    "  theme(axis.text.y = element_text(size = gene_font_size))\n"
   ]
  },
  {
   "cell_type": "markdown",
   "id": "55f2a5e7",
   "metadata": {},
   "source": [
    "\n"
   ]
  },
  {
   "cell_type": "markdown",
   "id": "0eeef33b",
   "metadata": {},
   "source": [
    "We can always customize the input genes for any of these plots. Below, we will can pick any gene we want to plot.\n"
   ]
  },
  {
   "cell_type": "code",
   "execution_count": null,
   "id": "b672da62",
   "metadata": {
    "lines_to_next_cell": 0,
    "name": "plot-myfave-genes"
   },
   "outputs": [],
   "source": [
    "\n",
    "#lets use a character vector to pass some genes as input to the plotting function.\n",
    "# each gene name is in quotes, separated by commas. double quote or single quote both work.\n",
    "# and wrapped in a c() block, indicating it is a vector object.\n",
    "\n",
    "\n",
    "genes <- c('PTPRC', 'TP53', 'SKP2', 'B2M')\n",
    "\n",
    "FeaturePlot(sobj, features = genes)\n"
   ]
  },
  {
   "cell_type": "markdown",
   "id": "eca466f7",
   "metadata": {},
   "source": [
    "\n"
   ]
  },
  {
   "cell_type": "markdown",
   "id": "44a34769",
   "metadata": {},
   "source": [
    "If you want to search any particular genes, here are some tips to remember:\n",
    "\n",
    "- Try to make sure you are using the proper gene symbol. You can look it up on GeneCard for human, MGI for mouse; each species has a database of proper symbols.\n",
    "\n",
    "- Make sure you are capitalizing all letters for human, just first letter for mouse. (For most genes)\n",
    "\n",
    "- If your favorite gene is missing, make sure it is in the dataset. One way is like below:\n"
   ]
  },
  {
   "cell_type": "code",
   "execution_count": null,
   "id": "0d1d3dc9",
   "metadata": {
    "lines_to_next_cell": 0,
    "name": "check-myfave-genes"
   },
   "outputs": [],
   "source": [
    "\n",
    "\n",
    "#lets use a character vector to pass some genes as input.\n",
    "# each gene name is in quotes, separated by commas, \n",
    "# and wrapped in a c() block, indicating it is a vector object.\n",
    "\n",
    "my_fave_genes <- c(\"SKP2\", \"Skp2\", \"FakeGeneLOL\", \"TP53\")\n",
    "\n",
    "\n",
    "my_fave_genes %in% rownames(sobj)\n",
    "\n",
    "\n"
   ]
  },
  {
   "cell_type": "markdown",
   "id": "30c792ca",
   "metadata": {},
   "source": [
    "\n",
    "\n",
    "\n",
    "\n",
    "\n",
    "\n",
    "\n",
    "\n"
   ]
  },
  {
   "cell_type": "markdown",
   "id": "4a5b0562",
   "metadata": {},
   "source": [
    "# Cell annotation"
   ]
  },
  {
   "cell_type": "markdown",
   "id": "726fca35",
   "metadata": {},
   "source": [
    "Once we have clustered the data, we can start trying to identify which cell types are present in our data. Usually, the strongest signal that is captured by clustering and marker analysis comes from cell types."
   ]
  },
  {
   "cell_type": "markdown",
   "id": "2b57469a",
   "metadata": {},
   "source": [
    "One way to annotate cell clusters to cell types is to carefully inspect the marker lists and marker plots above. Googling each gene from the heatmaps or dotplots may reveal some pattern of expression specific to a certain celltype."
   ]
  },
  {
   "cell_type": "markdown",
   "id": "74889c04",
   "metadata": {},
   "source": [
    "On the other hand, if we know what cell types to expect, we can try to read up on literature and pick some genes. Let's plot some canonical immune genes below:\n",
    "\n"
   ]
  },
  {
   "cell_type": "code",
   "execution_count": null,
   "id": "f49e4ed7",
   "metadata": {
    "lines_to_next_cell": 0,
    "name": "markers-plot-dotplot-canonical"
   },
   "outputs": [],
   "source": [
    "\n",
    "\n",
    "#lets use a character vector to pass some genes as input to the plotting function.\n",
    "# each gene name is in quotes, separated by commas, \n",
    "# and wrapped in a c() block, indicating it is a vector object.\n",
    "\n",
    "genes <- c('PTPRC', 'CD3E' , 'CD4', 'CD8A', 'CD19', 'CD68')\n",
    "\n",
    "\n",
    "DotPlot(sobj, features = unique(rev(genes))) +\n",
    "  coord_flip()+\n",
    "  theme(axis.text.y = element_text(size = gene_font_size))\n"
   ]
  },
  {
   "cell_type": "markdown",
   "id": "5a5d23cf",
   "metadata": {},
   "source": [
    "Immune afficionados may start to notice some patterns of cell type specifity to each cluster.\n",
    "\n",
    "\n",
    "\n",
    "\n"
   ]
  },
  {
   "cell_type": "markdown",
   "id": "d9bb132b",
   "metadata": {},
   "source": [
    "There are also some tools to try to automatically annotate cell types based on existing published data. These include SingleR and Azimuth.\n",
    "\n"
   ]
  },
  {
   "cell_type": "markdown",
   "id": "3bd6e306",
   "metadata": {},
   "source": [
    "We will rely on a different strategy here which is driven by the markers from our clusters and a database of cell type markers. This is the MISGDB Cell Signatures database:\n",
    "\n",
    "https://www.gsea-msigdb.org/gsea/msigdb/human/genesets.jsp?collection=C8"
   ]
  },
  {
   "cell_type": "markdown",
   "id": "9b2f6866",
   "metadata": {},
   "source": [
    "We will examine all the marker genes and run an enrichment analysis to see which celltypes they map to. We'll do this using a tool called ClusterProfiler, a flexible enrichment analysis tool. \n",
    "\n",
    "Below is some code to quickly accomplish this task:\n"
   ]
  },
  {
   "cell_type": "code",
   "execution_count": null,
   "id": "0869713b",
   "metadata": {
    "lines_to_next_cell": 0,
    "name": "msigdb-ORA"
   },
   "outputs": [],
   "source": [
    "\n",
    "#access the msigdb gene sets\n",
    "pathways <- msigdbr::msigdbr(species = 'Homo sapiens', category = 'C8')\n",
    "\n",
    "\n",
    "#set up input for clusterProfiler\n",
    "term2gene <- pathways[,c('gs_name', 'gene_symbol')]\n",
    "\n",
    "\n",
    "#prep ratio function same as DOSE::parse_ratio\n",
    "parse_ratio <- function(ratio){\n",
    "  ratio <- sub(\"^\\\\s*\", \"\", as.character(ratio))\n",
    "  ratio <- sub(\"\\\\s*$\", \"\", ratio)\n",
    "  numerator <- as.numeric(sub(\"/\\\\d+$\", \"\", ratio))\n",
    "  denominator <- as.numeric(sub(\"^\\\\d+/\", \"\", ratio))\n",
    "  return(numerator/denominator)\n",
    "}\n",
    "\n",
    "\n",
    "\n",
    "#loop thru clusters and perform pathway analysis\n",
    "\n",
    "clusts <- unique(m$cluster)\n",
    "\n",
    "#for each cluster, get markers, run thru pathway analysis\n",
    "ora_res_list <- lapply(clusts, function(cl){\n",
    "  \n",
    "  \n",
    "  message('Analyzing cluster ', cl)\n",
    "  \n",
    "  \n",
    "  #get markers of this cluster\n",
    "  markers_cl <- m[m$cluster == cl,\"gene\"]\n",
    "  \n",
    "  \n",
    "  #run analysis\n",
    "  orares <- enricher(markers_cl,\n",
    "                     TERM2GENE = term2gene, \n",
    "                     pvalueCutoff = 0.05\n",
    "  )\n",
    "  \n",
    "  \n",
    "  #to df\n",
    "  orares <- as.data.frame(orares)\n",
    "  \n",
    "  \n",
    "  #add numeric ratio column\n",
    "  orares$GeneRatioNumeric <- parse_ratio(orares$GeneRatio)\n",
    "  \n",
    "  \n",
    "  #keep only important columns\n",
    "  orares <- orares[,c('ID', 'GeneRatio', 'GeneRatioNumeric', 'BgRatio', 'Count', 'pvalue', 'p.adjust')]\n",
    "  \n",
    "  \n",
    "  #add a cluster column\n",
    "  orares <- cbind(cl, orares)\n",
    "  colnames(orares)[1] <- 'Cluster'\n",
    "  \n",
    "  \n",
    "  \n",
    "  return(orares)\n",
    "  \n",
    "  \n",
    "})\n",
    "\n",
    "\n",
    "\n",
    "#make a plot using the top few pathways for each of them\n",
    "\n",
    "ora_res_df <- dplyr::bind_rows(ora_res_list)\n",
    "\n",
    "\n",
    "\n",
    "\n",
    "#select top pways per cluster in way that allows multiple clusters to express them\n",
    "n = 5\n",
    "top_pways <- ora_res_df %>% group_by(Cluster) %>% top_n(n = n, wt = -log(pvalue))\n",
    "top_pways_names <- unique(top_pways$ID)\n",
    "ora_res_df_top <- ora_res_df[ora_res_df$ID %in% top_pways_names,]\n",
    "\n",
    "\n",
    "\n",
    "#order by top cluster\n",
    "ora_res_df_top$ID <- factor(ora_res_df_top$ID, levels = rev(top_pways_names))\n",
    "\n",
    "\n",
    "#prep plot: we'll plot DimPlot and dotplot side by side\n",
    "\n",
    "p1 <- DimPlot(sobj, label=T)\n",
    "p2 <- ggplot(ora_res_df_top, aes(Cluster, ID, size = -log(pvalue), col = GeneRatioNumeric))+\n",
    "  geom_point()+\n",
    "  theme(axis.text = element_text(size = 7))\n",
    "\n",
    "patchwork::wrap_plots(list(p1,p2), ncol=1, heights = c(0.3,0.7))\n",
    "\n",
    "\n",
    "\n",
    "\n"
   ]
  },
  {
   "cell_type": "markdown",
   "id": "70e3b308",
   "metadata": {},
   "source": [
    "In this dotplot, the size of the dot indicates the P value of the enrichment, while the color indicates the enrichment strength. \n",
    "\n",
    "The cell markers are pulled from various tissues but are specific to cell types.\n",
    "\n",
    "Do you notice any patterns associated with each cluster? \n",
    "If you had to give a cluster label to each cluster, such as T cell, B cell, etcera, what would you label it as?\n"
   ]
  },
  {
   "cell_type": "markdown",
   "id": "622d2dcf",
   "metadata": {},
   "source": [
    "Note that some cell types are very well studied (such as immune cells), while others may have not much in the way of published markers, so this type of analysis can bea bit difficult."
   ]
  },
  {
   "cell_type": "markdown",
   "id": "749f6c4b",
   "metadata": {},
   "source": [
    "Also note that automated cell type calling should always be carefully checked and inspected, markers checked, tissue biology experts consulted, etc, in order to prevent false identificatons."
   ]
  },
  {
   "cell_type": "markdown",
   "id": "7a5d2a12",
   "metadata": {},
   "source": [
    "Cell annotation is generally the most difficult step in single-cell RNA-seq analysis, because it relies on extensive biological expertise of specific tissues to confidently call cells.\n",
    "\n",
    "\n"
   ]
  },
  {
   "cell_type": "markdown",
   "id": "a571f1b6",
   "metadata": {},
   "source": [
    "# Conclusion\n",
    "\n",
    "Hopefully, this tutorial has given you an idea of the general steps of single-cell RNA-sequencing analysis.\n",
    "\n",
    "We learnt about pre-processing of 10X data, reading the data in, normalization, feature selection, PCA, clustering, marker analysis, and cell annotation.\n"
   ]
  },
  {
   "cell_type": "markdown",
   "id": "f59ad040",
   "metadata": {},
   "source": [
    "It's quiz-o-clock!"
   ]
  },
  {
   "cell_type": "markdown",
   "id": "95901e39",
   "metadata": {},
   "source": [
    "1. Can you name some important quality metrics for scRNAseq data?\n",
    "\n",
    "2. Can you identify two important hyperparameters in scRNAseq analysis?\n",
    "\n",
    "3. Can you explain why we use normalization in scRNAseq analysis?\n",
    "\n",
    "4. Can you explain how to identify cell types from scRNAseq analysis?\n",
    "\n",
    "5. What is your favorite cell type?\n",
    "\n",
    "\n",
    "\n",
    "\n",
    "\n",
    "\n"
   ]
  },
  {
   "cell_type": "markdown",
   "id": "64c480b9",
   "metadata": {},
   "source": [
    "Answers are below, scroll all the way down, no cheating ;)\n",
    "\n",
    "\n",
    "\n",
    "\n",
    "\n",
    "\n",
    "\n",
    "<br />\n",
    "<br />\n",
    "<br />\n",
    "<br />\n",
    "<br />\n",
    "<br />\n",
    "<br />\n",
    "<br />\n",
    "<br />\n",
    "<br />\n",
    "<br />\n",
    "<br />\n",
    "<br />\n",
    "\n",
    "\n",
    "\n",
    "\n",
    "\n",
    "\n",
    "\n",
    "\n",
    "<br />\n",
    "<br />\n",
    "<br />\n",
    "<br />\n",
    "<br />\n",
    "<br />\n",
    "<br />\n",
    "<br />\n",
    "<br />\n",
    "<br />\n",
    "<br />\n",
    "<br />\n",
    "<br />\n",
    "<br />\n",
    "<br />\n",
    "<br />\n",
    "\n",
    "\n",
    "\n",
    "\n",
    "\n",
    "\n",
    "\n",
    "\n",
    "\n"
   ]
  },
  {
   "cell_type": "markdown",
   "id": "3f7aba9d",
   "metadata": {},
   "source": [
    "1. Can you name some important quality metrics for scRNAseq data?\n",
    "\n",
    "Percent mito content, number of UMIs (transcripts detected), number of unique genes detected\n",
    "\n"
   ]
  },
  {
   "cell_type": "markdown",
   "id": "6f70ec8d",
   "metadata": {},
   "source": [
    "2. Can you identify two important hyperparameters in scRNAseq analysis?"
   ]
  },
  {
   "cell_type": "markdown",
   "id": "14fb8f83",
   "metadata": {},
   "source": [
    "Two most important are number of PCs used and Louvain resolution. Other important ones are number of HVGs used and the k selected during KNN graph computation."
   ]
  },
  {
   "cell_type": "markdown",
   "id": "d12589f2",
   "metadata": {},
   "source": [
    "3. Can you explain why we use normalization in scRNAseq analysis?\n",
    "\n",
    "To reduce the correlation between gene variance and gene count expression. To select Highly Variable Genes not just on the basis of those that are most highly expressed, but those that actually differ across cells.\n"
   ]
  },
  {
   "cell_type": "markdown",
   "id": "46273152",
   "metadata": {},
   "source": [
    "4. Can you explain how to identify cell types from scRNAseq analysis?"
   ]
  },
  {
   "cell_type": "markdown",
   "id": "65a5698b",
   "metadata": {},
   "source": [
    "Inspect markers, google markers you don't know about, run markers through databases.\n",
    "Use database-derived tools like SingleR and Azimuth.\n",
    "\n",
    "Database methods should always be treated with caution, and may not have info for less well characterized tissues / cell types.\n"
   ]
  },
  {
   "cell_type": "markdown",
   "id": "c368297e",
   "metadata": {},
   "source": [
    "5. My favorite cell type is the osteoclast, because they're so weird.\n",
    "\n",
    "\n",
    "\n"
   ]
  },
  {
   "cell_type": "markdown",
   "id": "9fa29c18",
   "metadata": {},
   "source": [
    "Thanks for your attention. We hope this was helpful and informative.\n",
    "\n",
    "\n",
    "\n",
    "\n"
   ]
  },
  {
   "cell_type": "markdown",
   "id": "0b52993d",
   "metadata": {},
   "source": [
    "\n",
    "<br />\n",
    "<br />\n",
    "<br />\n",
    "<br />\n",
    "\n",
    "\n",
    "\n",
    "\n",
    "## A plug for our recent pipeline package: [scDAPP](https://github.com/bioinfoDZ/scDAPP)\n",
    "\n",
    "\n",
    "Oftentimes these days single-cell RNA-seq is used not just to profile tissues and annotate tissue heterogeneity, but in face, as a read-out of experimental perturbation, such as gene knockouts or drug experiments.\n",
    "\n",
    "Cross-group analysis of scRNA-seq is complex and beyond the scope of this vignette. However, we would like to plug our recently completed (and soon to be submitted) pipeline package meant explicitly for this purpose.\n",
    "\n",
    "It is called [single cell Differential Analysis and Processing Pipeline (scDAPP)](https://github.com/bioinfoDZ/scDAPP). It is an end-to-end pipeline for scalable, accurate, replicate-aware cross-group analysis of single-cell RNA-seq data.\n",
    "\n",
    "If you are interested in it, see our website or reach out to us!"
   ]
  }
 ],
 "metadata": {
  "jupytext": {
   "cell_metadata_filter": "name,fig.width,fig.height,-all",
   "main_language": "R",
   "notebook_metadata_filter": "-all"
  },
  "kernelspec": {
   "display_name": "R [conda env:R-4.3.2-osx-64]",
   "language": "R",
   "name": "conda-env-R-4.3.2-osx-64-r"
  },
  "language_info": {
   "codemirror_mode": "r",
   "file_extension": ".r",
   "mimetype": "text/x-r-source",
   "name": "R",
   "pygments_lexer": "r",
   "version": "4.3.2"
  }
 },
 "nbformat": 4,
 "nbformat_minor": 5
}
