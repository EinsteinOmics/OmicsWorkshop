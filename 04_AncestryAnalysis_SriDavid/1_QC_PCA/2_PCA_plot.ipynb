{
 "cells": [
  {
   "cell_type": "markdown",
   "id": "de2f64f6-1895-4502-af6b-ea54a102ada6",
   "metadata": {},
   "source": [
    "## Einstein Omics Workshop: Population Stratification Analysis \n",
    "**Author: David Yang**<br>\n",
    "**Date: February 2024**\n"
   ]
  },
  {
   "cell_type": "code",
   "execution_count": null,
   "id": "ea293b6c",
   "metadata": {},
   "outputs": [],
   "source": [
    "import warnings\n",
    "warnings.filterwarnings('ignore')\n",
    "#libraries used in this python script\n",
    "import numpy as np\n",
    "import pandas as pd\n",
    "import matplotlib.pyplot as plt\n",
    "import seaborn as sns\n",
    "import csv\n",
    "from matplotlib.pyplot import figure\n",
    "\n",
    "\n"
   ]
  },
  {
   "cell_type": "code",
   "execution_count": null,
   "id": "5819b647",
   "metadata": {},
   "outputs": [],
   "source": [
    "#Set the color palette for Seaborn\n",
    "sns.set_style('darkgrid') # darkgrid, white grid, dark, white and ticks\n",
    "plt.rc('axes', titlesize=18)     # fontsize of the axes title\n",
    "plt.rc('axes', labelsize=14)    # fontsize of the x and y labels\n",
    "plt.rc('xtick', labelsize=13)    # fontsize of the tick labels\n",
    "plt.rc('ytick', labelsize=13)    # fontsize of the tick labels\n",
    "plt.rc('legend', fontsize=13)    # legend fontsize\n",
    "plt.rc('font', size=13)          # controls default text sizes\n",
    "\n",
    "#I will use color blind for this test\n",
    "sns.color_palette('colorblind')"
   ]
  },
  {
   "cell_type": "code",
   "execution_count": null,
   "id": "1e8b064b",
   "metadata": {},
   "outputs": [],
   "source": [
    "# Loading and preprocessing of PCA data\n",
    "# Load in eigenvec calculated using PCA from Plink\n",
    "pca_vals = pd.read_table(\"results/PCA_result.eigenvec\", delim_whitespace=True, header=None)\n",
    "pca_ids = pca_vals[1]\n",
    "print(pca_ids[1:6])\n",
    "pca_vals.head(5)\n"
   ]
  },
  {
   "cell_type": "code",
   "execution_count": null,
   "id": "62e73564",
   "metadata": {},
   "outputs": [],
   "source": [
    "# Match sample IDs from pca_vals with metadata file\n",
    "all_metadata = pd.read_table(\"txt_files/population_labels.txt\", delim_whitespace=True, header=None)\n",
    "\n",
    "# Set the header row as column names\n",
    "all_metadata.columns = all_metadata.iloc[0]\n",
    "\n",
    "# Drop the first row (header row)\n",
    "all_metadata = all_metadata.drop(0)\n",
    "\n",
    "# Reset the index\n",
    "all_metadata = all_metadata.reset_index(drop=True)\n",
    "\n",
    "# Display the modified DataFrame\n",
    "all_metadata.head(5)\n",
    "            "
   ]
  },
  {
   "cell_type": "code",
   "execution_count": null,
   "id": "48db9582",
   "metadata": {},
   "outputs": [],
   "source": [
    "# Extract the column you want to write to the text file\n",
    "Population_labels = all_metadata['Population']\n",
    "print(Population_labels[1:10])\n",
    "\n",
    "# Write the population label data to a text file\n",
    "with open('txt_files/abels_ind2pop.txt', 'w') as file:\n",
    "    file.write('\\n'.join(Population_labels.astype(str)))\n",
    "   "
   ]
  },
  {
   "cell_type": "code",
   "execution_count": null,
   "id": "0837bb71",
   "metadata": {},
   "outputs": [],
   "source": [
    "all_metadata = pd.read_table(\"txt_files/population_labels.txt\", delim_whitespace=True, header=0)\n",
    "\n",
    "# Extract unique population labels and create a list\n",
    "admixture_list = all_metadata['Population'].unique().tolist()\n",
    "\n",
    "# Create a dictionary mapping individual IDs to population labels\n",
    "pop_names = dict(zip(all_metadata['IID'], all_metadata['Population']))\n",
    "\n",
    "# Display the extracted population labels and the individual-to-population mapping\n",
    "print(\"Unique Population Labels:\", admixture_list)\n",
    "print(\"\\nIndividual-to-Population Mapping:\")\n",
    "print(pop_names)\n",
    "\n",
    "# Export pop_names as a tab-delimited file\n",
    "with open('txt_files/pop_names.txt', 'w', newline='') as file:\n",
    "    writer = csv.writer(file, delimiter='\\t')\n",
    "    writer.writerow(pop_names.keys())  # Write the header row directly\n",
    "    writer.writerows(zip(pop_names.keys(), pop_names.values()))  # Write the data\n",
    "    \n",
    "pca_vals.insert(2, 'Population_name', pca_vals[1].map(pop_names))\n",
    "pca_vals.to_csv(\"txt_files/pca_eigenvec_pop_labels.csv\")"
   ]
  },
  {
   "cell_type": "code",
   "execution_count": null,
   "id": "9b4b2df3",
   "metadata": {},
   "outputs": [],
   "source": [
    "# Rename the columns starting from the third column\n",
    "pca_vals.columns = ['FID', 'IID', 'Population_name'] + [f'PC{i}' for i in range(1, len(pca_vals.columns)-2)]\n",
    "\n",
    "# Display the DataFrame with the updated column names\n",
    "pca_vals.head()\n"
   ]
  },
  {
   "cell_type": "code",
   "execution_count": null,
   "id": "c699541f",
   "metadata": {},
   "outputs": [],
   "source": [
    "# Choose a color map\n",
    "cmap = plt.cm.tab20\n",
    "\n",
    "# Count the number of unique super populations\n",
    "num_population = pca_vals[\"Population_name\"].nunique()\n",
    "\n",
    "# Create a color map normalization instance\n",
    "norm = plt.Normalize(0, num_population)\n",
    "\n",
    "# Plot PCA grouping by population name\n",
    "plt.figure(figsize=(8, 6), dpi=200)\n",
    "groups = pca_vals.groupby(\"Population_name\")\n",
    "\n",
    "for i, (name, group) in enumerate(groups):\n",
    "    color = cmap(norm(i))\n",
    "    if name != \"OWN\":\n",
    "        plt.scatter(group[\"PC1\"], group[\"PC2\"], marker=\"o\", label=name, s=20, color=color, zorder=5)\n",
    "    else:\n",
    "        plt.scatter(group[\"PC1\"], group[\"PC2\"], marker=\"x\", label=name, s=40, color='black', zorder=10)\n",
    "\n",
    "plt.xlabel('PC1')\n",
    "plt.ylabel('PC2')\n",
    "plt.legend(bbox_to_anchor=(1, 1), prop={'size': 10,} , ncol=2)\n",
    "plt.savefig('PCA_PC1-PC2.png', bbox_inches=\"tight\")\n",
    "plt.show()"
   ]
  }
 ],
 "metadata": {
  "kernelspec": {
   "display_name": "Python [conda env:omics-workshop-python]",
   "language": "python",
   "name": "conda-env-omics-workshop-python-py"
  },
  "language_info": {
   "codemirror_mode": {
    "name": "ipython",
    "version": 3
   },
   "file_extension": ".py",
   "mimetype": "text/x-python",
   "name": "python",
   "nbconvert_exporter": "python",
   "pygments_lexer": "ipython3",
   "version": "3.12.1"
  }
 },
 "nbformat": 4,
 "nbformat_minor": 5
}
